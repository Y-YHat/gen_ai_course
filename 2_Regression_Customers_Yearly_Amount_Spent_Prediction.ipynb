{
  "nbformat": 4,
  "nbformat_minor": 0,
  "metadata": {
    "colab": {
      "provenance": [],
      "gpuType": "T4",
      "include_colab_link": true
    },
    "kernelspec": {
      "name": "python3",
      "display_name": "Python 3"
    },
    "language_info": {
      "name": "python"
    },
    "accelerator": "GPU"
  },
  "cells": [
    {
      "cell_type": "markdown",
      "metadata": {
        "id": "view-in-github",
        "colab_type": "text"
      },
      "source": [
        "<a href=\"https://colab.research.google.com/github/Y-YHat/gen_ai_course/blob/main/2_Regression_Customers_Yearly_Amount_Spent_Prediction.ipynb\" target=\"_parent\"><img src=\"https://colab.research.google.com/assets/colab-badge.svg\" alt=\"Open In Colab\"/></a>"
      ]
    },
    {
      "cell_type": "markdown",
      "source": [
        "# Problem statement: Regression Model to predict Customers yearly amount spent\n",
        "\n",
        "Creating a regression model for the provided e-commerce dataset requires several steps, including data loading, preprocessing, model creation, and evaluation.\n",
        "Below is a complete end-to-end Python code with detailed comments for each step:\n",
        "\n",
        "\n",
        "This code does the following:\n",
        "\n",
        "- Step 1: Imports necessary libraries.\n",
        "- Step 2: Mounts Google Drive to access the dataset.\n",
        "- Step 3: Loads the dataset into a Pandas DataFrame.\n",
        "- Step 4: Performs data preprocessing, including checking for missing values, exploring data, and visualizing relationships.\n",
        "- Step 5: Selects features and the target variable.\n",
        "- Step 6: Splits the data into training and testing sets.\n",
        "- Step 7: Standardizes the features using `StandardScaler`.\n",
        "- Step 8: Creates and trains a Linear Regression model, evaluates it, and prints the evaluation metrics.\n",
        "- Step 9: Creates and trains a Random Forest Regressor model, evaluates it, and prints the evaluation metrics.\n",
        "- Step 10: Saves the trained Random Forest model to a file.\n",
        "\n",
        "In summary, this code performs regression modeling to predict the 'Yearly Amount Spent' by customers based on their 'Avg. Session Length', 'Time on App', 'Time on Website', and 'Length of Membership'. It builds and evaluates both a Linear Regression model and a Random Forest Regressor model for this prediction task.\n",
        "\n",
        "The notebook contains 2 exercises in total:\n",
        "\n",
        "* [Exercise 1](#ex_1)\n",
        "* [Exercise 2](#ex_2)"
      ],
      "metadata": {
        "id": "GJJbXYc9rryo"
      }
    },
    {
      "cell_type": "code",
      "source": [
        "# Import necessary libraries\n",
        "import pandas as pd\n",
        "import numpy as np\n",
        "import matplotlib.pyplot as plt\n",
        "import seaborn as sns\n",
        "from sklearn.model_selection import train_test_split\n",
        "from sklearn.linear_model import LinearRegression\n",
        "from sklearn.metrics import mean_squared_error, r2_score\n",
        "from sklearn.preprocessing import StandardScaler\n",
        "from sklearn.ensemble import RandomForestRegressor\n",
        "from sklearn.model_selection import GridSearchCV\n",
        "from sklearn.pipeline import Pipeline\n",
        "import joblib\n",
        "from google.colab import drive\n",
        "\n",
        "\n",
        "from google.colab import files\n",
        "uploaded = files.upload()"
      ],
      "metadata": {
        "id": "3oXjlLKMhAX6"
      },
      "execution_count": null,
      "outputs": []
    },
    {
      "cell_type": "code",
      "source": [
        "# Load the dataset into a Pandas DataFrame\n",
        "df = pd.read_csv('ecommerce-customers.csv')\n",
        "\n",
        "# Display the first few rows of the dataset\n",
        "df.head()\n",
        "\n",
        "# Data preprocessing\n",
        "\n",
        "# Check for missing values\n",
        "df.isnull().sum()\n",
        "\n",
        "# Check the data types of each column\n",
        "df.dtypes\n",
        "\n",
        "# Explore the dataset using descriptive statistics\n",
        "df.describe()\n",
        "\n",
        "# Visualize the data\n",
        "\n",
        "# Pairplot to visualize relationships between numerical variables\n",
        "sns.pairplot(df)\n",
        "\n",
        "# Create a heatmap to visualize correlation between numerical variables\n",
        "plt.figure(figsize=(10, 6))\n",
        "sns.heatmap(df.corr(), annot=True, cmap='coolwarm')\n",
        "\n",
        "# Select the features (X) and the target variable (y)\n",
        "X = df[['Avg. Session Length', 'Time on App', 'Time on Website', 'Length of Membership']]\n",
        "y = df['Yearly Amount Spent']\n",
        "\n",
        "# Split the data into training and testing sets\n",
        "X_train, X_test, y_train, y_test = train_test_split(X, y, test_size=0.3, random_state=42)\n",
        "\n",
        "# Create a StandardScaler object to standardize features\n",
        "scaler = StandardScaler()\n",
        "\n",
        "# Fit and transform the scaler on the training data\n",
        "X_train_scaled = scaler.fit_transform(X_train)\n",
        "\n",
        "# Transform the testing data using the trained scaler\n",
        "X_test_scaled = scaler.transform(X_test)\n",
        "\n",
        "# Create a Linear Regression model\n",
        "lr = LinearRegression()\n",
        "\n",
        "# Fit the model to the scaled training data\n",
        "lr.fit(X_train_scaled, y_train)\n",
        "\n",
        "# Make predictions on the testing data\n",
        "y_pred = lr.predict(X_test_scaled)\n",
        "\n",
        "# Evaluate the Linear Regression model\n",
        "\n",
        "# Calculate Mean Squared Error (MSE)\n",
        "mse = mean_squared_error(y_test, y_pred)\n",
        "\n",
        "# Calculate R-squared (R2) score\n",
        "r2 = r2_score(y_test, y_pred)\n",
        "\n",
        "# Print the evaluation metrics\n",
        "print(\"Mean Squared Error (MSE):\", mse)\n",
        "print(\"R-squared (R2) Score:\", r2)\n",
        "\n",
        "# Create a Random Forest Regressor model\n",
        "rf = RandomForestRegressor()\n",
        "\n",
        "# Fit the model to the training data\n",
        "rf.fit(X_train_scaled, y_train)\n",
        "\n",
        "# Make predictions on the testing data\n",
        "y_pred_rf = rf.predict(X_test_scaled)\n",
        "\n",
        "# Evaluate the Random Forest Regressor model\n",
        "\n",
        "# Calculate Mean Squared Error (MSE)\n",
        "mse_rf = mean_squared_error(y_test, y_pred_rf)\n",
        "\n",
        "# Calculate R-squared (R2) score\n",
        "r2_rf = r2_score(y_test, y_pred_rf)\n",
        "\n",
        "# Print the evaluation metrics for Random Forest\n",
        "print(\"Random Forest Mean Squared Error (MSE):\", mse_rf)\n",
        "print(\"Random Forest R-squared (R2) Score:\", r2_rf)\n",
        "\n"
      ],
      "metadata": {
        "id": "o4FGq6l9nR98"
      },
      "execution_count": null,
      "outputs": []
    },
    {
      "cell_type": "markdown",
      "source": [
        "##Linear Regression Model:\n",
        "R-squared (R2) Score: 0.9809\n",
        "Mean Squared Error (MSE): 103.92\n",
        "\n",
        "##Random Forest Regressor Model:\n",
        "R-squared (R2) Score: 0.9449\n",
        "Mean Squared Error (MSE): 299.20\n",
        "\n",
        "There was a correction in the MSE value for the Linear Regression model. With an MSE of approximately 103.92, the Linear Regression model demonstrates excellent performance, and the high R2 score indicates a strong fit to the data.\n",
        "\n",
        "The Random Forest model, while still performing well with an R2 score of 0.9449, has a higher MSE compared to the Linear Regression model, suggesting that the Linear Regression model might be slightly better at minimizing prediction errors for this specific dataset."
      ],
      "metadata": {
        "id": "Lur77OKssLL9"
      }
    },
    {
      "cell_type": "markdown",
      "source": [
        "<a name=\"ex_1\"></a>\n",
        "# Exercise 1: Exploring Alternative Regression Models\n",
        "\n",
        "**Tasks:**\n",
        "- Implement an SVR regression model. Discuss how the choice of kernel affects the model's performance.\n",
        "- Compare the performance of these models with the original regression model."
      ],
      "metadata": {
        "id": "EGLrx3MB1hrD"
      }
    },
    {
      "cell_type": "markdown",
      "source": [
        "<a name=\"ex_2\"></a>\n",
        "# Exercise 2: Evaluating Models with Different Metrics\n",
        "\n",
        "**Tasks:**\n",
        "- Calculate the Adjusted R-squared value for your model and discuss its significance compared to the R-squared value.\n",
        "- Use the Mean Absolute Error (MAE) to evaluate your model. Explain how MAE provides a different perspective on model performance compared to Mean Squared Error (MSE).\n",
        "- Discuss the advantages of using multiple metrics to evaluate model performance."
      ],
      "metadata": {
        "id": "0TFCy61I2PjQ"
      }
    }
  ]
}