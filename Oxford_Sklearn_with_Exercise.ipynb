{
  "cells": [
    {
      "cell_type": "markdown",
      "metadata": {
        "id": "B6kECm8TS7aY"
      },
      "source": [
        "# Introduction\n",
        "\n",
        "**Python** is one of the most used programming languages more for machine learning and deep learning. These are some reasons why python is used for machine learning:\n",
        "\n",
        "* Python is a simple and consistent programming language\n",
        "* It contains a variety of libraries and frameworks\n",
        "* Can be performed practically on any platform.\n",
        "\n",
        "In order to benefit from the flexible possibilities offered by the Python programming language, there are a set of libraries which are mostly used:\n",
        "\n",
        "* Scikitlearn\n",
        "* Numpy\n",
        "* Pandas\n",
        "* Matplotlib\n",
        "\n",
        "The notebook contains 1 exercise in total:\n",
        "\n",
        "* [Exercise 1](#ex_1)\n"
      ]
    },
    {
      "cell_type": "markdown",
      "metadata": {
        "id": "BzaMsRHAyjuF"
      },
      "source": [
        "# 1. Get started with Sklearn\n",
        "\n",
        "**Scikit-learn** is one of the most useful libraries for machine learning in Python. The sklearn library contains a lot of efficient tools for machine learning and statistical modeling including classification, regression, clustering and dimensionality reduction.\n",
        "\n",
        "We will be presenting different functions and possibilities that you can use with sklearn from python.\n",
        "\n",
        "First step is to implement the package into the workplace."
      ]
    },
    {
      "cell_type": "code",
      "execution_count": 1,
      "metadata": {
        "id": "m_TBqtQeCF_D"
      },
      "outputs": [],
      "source": [
        "#import scikit-learn\n",
        "import sklearn\n",
        "#Importing pandas, numpy, and matplotlib libraries\n",
        "import pandas as pd\n",
        "import matplotlib.pyplot as plt\n",
        "import numpy as np\n",
        "#Importing all preexisting datasets provided by sklearn\n",
        "from sklearn import datasets\n",
        "#From the \"ensemble\" models of sklearn we import the random forest classifier\n",
        "from sklearn.ensemble import RandomForestClassifier\n",
        "import warnings\n",
        "warnings.simplefilter(\"ignore\")"
      ]
    },
    {
      "cell_type": "markdown",
      "metadata": {
        "id": "TgbupQ1VjeBl"
      },
      "source": [
        "# 2. Case study"
      ]
    },
    {
      "cell_type": "markdown",
      "metadata": {
        "id": "wdNu9sXFT9SC"
      },
      "source": [
        "In order to understand and get used with  sklearn, it is better working with an application. In this notebook, we will be using the wine dataset."
      ]
    },
    {
      "cell_type": "markdown",
      "metadata": {
        "id": "QMnLwcHhDAEl"
      },
      "source": [
        "# 3. Load the dataset you want:"
      ]
    },
    {
      "cell_type": "code",
      "execution_count": 2,
      "metadata": {
        "id": "v6gjAs1TC5PB",
        "colab": {
          "base_uri": "https://localhost:8080/"
        },
        "outputId": "059d76da-9ce1-437f-a78c-99d9c989cc69"
      },
      "outputs": [
        {
          "output_type": "stream",
          "name": "stdout",
          "text": [
            "dict_keys(['data', 'target', 'frame', 'target_names', 'DESCR', 'feature_names'])\n"
          ]
        }
      ],
      "source": [
        "#From sklearn dataset we specify which of these datasets we are using\n",
        "data= datasets.load_wine()\n",
        "print(data.keys())"
      ]
    },
    {
      "cell_type": "markdown",
      "metadata": {
        "id": "Pn3QtRdtDFoC"
      },
      "source": [
        "Note: If you want to discover the list of datasets offered by sklearn you can check the references section for more infos.\n",
        "\n",
        "Note: You can also upload your own dataset using pandas, as described in the links in the references section.\n",
        "\n",
        "\n",
        "\n"
      ]
    },
    {
      "cell_type": "markdown",
      "metadata": {
        "id": "1PNT2assiZEa"
      },
      "source": [
        "# 4. Data exploration"
      ]
    },
    {
      "cell_type": "code",
      "execution_count": 3,
      "metadata": {
        "id": "4CFqj_42EpsB",
        "colab": {
          "base_uri": "https://localhost:8080/"
        },
        "outputId": "e667057c-4e0c-4770-d72d-05224711375f"
      },
      "outputs": [
        {
          "output_type": "stream",
          "name": "stdout",
          "text": [
            ".. _wine_dataset:\n",
            "\n",
            "Wine recognition dataset\n",
            "------------------------\n",
            "\n",
            "**Data Set Characteristics:**\n",
            "\n",
            ":Number of Instances: 178\n",
            ":Number of Attributes: 13 numeric, predictive attributes and the class\n",
            ":Attribute Information:\n",
            "    - Alcohol\n",
            "    - Malic acid\n",
            "    - Ash\n",
            "    - Alcalinity of ash\n",
            "    - Magnesium\n",
            "    - Total phenols\n",
            "    - Flavanoids\n",
            "    - Nonflavanoid phenols\n",
            "    - Proanthocyanins\n",
            "    - Color intensity\n",
            "    - Hue\n",
            "    - OD280/OD315 of diluted wines\n",
            "    - Proline\n",
            "    - class:\n",
            "        - class_0\n",
            "        - class_1\n",
            "        - class_2\n",
            "\n",
            ":Summary Statistics:\n",
            "\n",
            "============================= ==== ===== ======= =====\n",
            "                                Min   Max   Mean     SD\n",
            "============================= ==== ===== ======= =====\n",
            "Alcohol:                      11.0  14.8    13.0   0.8\n",
            "Malic Acid:                   0.74  5.80    2.34  1.12\n",
            "Ash:                          1.36  3.23    2.36  0.27\n",
            "Alcalinity of Ash:            10.6  30.0    19.5   3.3\n",
            "Magnesium:                    70.0 162.0    99.7  14.3\n",
            "Total Phenols:                0.98  3.88    2.29  0.63\n",
            "Flavanoids:                   0.34  5.08    2.03  1.00\n",
            "Nonflavanoid Phenols:         0.13  0.66    0.36  0.12\n",
            "Proanthocyanins:              0.41  3.58    1.59  0.57\n",
            "Colour Intensity:              1.3  13.0     5.1   2.3\n",
            "Hue:                          0.48  1.71    0.96  0.23\n",
            "OD280/OD315 of diluted wines: 1.27  4.00    2.61  0.71\n",
            "Proline:                       278  1680     746   315\n",
            "============================= ==== ===== ======= =====\n",
            "\n",
            ":Missing Attribute Values: None\n",
            ":Class Distribution: class_0 (59), class_1 (71), class_2 (48)\n",
            ":Creator: R.A. Fisher\n",
            ":Donor: Michael Marshall (MARSHALL%PLU@io.arc.nasa.gov)\n",
            ":Date: July, 1988\n",
            "\n",
            "This is a copy of UCI ML Wine recognition datasets.\n",
            "https://archive.ics.uci.edu/ml/machine-learning-databases/wine/wine.data\n",
            "\n",
            "The data is the results of a chemical analysis of wines grown in the same\n",
            "region in Italy by three different cultivators. There are thirteen different\n",
            "measurements taken for different constituents found in the three types of\n",
            "wine.\n",
            "\n",
            "Original Owners:\n",
            "\n",
            "Forina, M. et al, PARVUS -\n",
            "An Extendible Package for Data Exploration, Classification and Correlation.\n",
            "Institute of Pharmaceutical and Food Analysis and Technologies,\n",
            "Via Brigata Salerno, 16147 Genoa, Italy.\n",
            "\n",
            "Citation:\n",
            "\n",
            "Lichman, M. (2013). UCI Machine Learning Repository\n",
            "[https://archive.ics.uci.edu/ml]. Irvine, CA: University of California,\n",
            "School of Information and Computer Science.\n",
            "\n",
            "|details-start|\n",
            "**References**\n",
            "|details-split|\n",
            "\n",
            "(1) S. Aeberhard, D. Coomans and O. de Vel,\n",
            "Comparison of Classifiers in High Dimensional Settings,\n",
            "Tech. Rep. no. 92-02, (1992), Dept. of Computer Science and Dept. of\n",
            "Mathematics and Statistics, James Cook University of North Queensland.\n",
            "(Also submitted to Technometrics).\n",
            "\n",
            "The data was used with many others for comparing various\n",
            "classifiers. The classes are separable, though only RDA\n",
            "has achieved 100% correct classification.\n",
            "(RDA : 100%, QDA 99.4%, LDA 98.9%, 1NN 96.1% (z-transformed data))\n",
            "(All results using the leave-one-out technique)\n",
            "\n",
            "(2) S. Aeberhard, D. Coomans and O. de Vel,\n",
            "\"THE CLASSIFICATION PERFORMANCE OF RDA\"\n",
            "Tech. Rep. no. 92-01, (1992), Dept. of Computer Science and Dept. of\n",
            "Mathematics and Statistics, James Cook University of North Queensland.\n",
            "(Also submitted to Journal of Chemometrics).\n",
            "\n",
            "|details-end|\n",
            "\n"
          ]
        }
      ],
      "source": [
        "#This function is a full description \"package\" it gives all infos you can need to know about your data\n",
        "print(data.DESCR)"
      ]
    },
    {
      "cell_type": "code",
      "execution_count": 4,
      "metadata": {
        "id": "_L8loNO3Nvq5",
        "colab": {
          "base_uri": "https://localhost:8080/",
          "height": 224
        },
        "outputId": "78eb7ba7-feba-48e1-ba2b-ba2207903a79"
      },
      "outputs": [
        {
          "output_type": "execute_result",
          "data": {
            "text/plain": [
              "   alcohol  malic_acid   ash  alcalinity_of_ash  magnesium  total_phenols  \\\n",
              "0    14.23        1.71  2.43               15.6      127.0           2.80   \n",
              "1    13.20        1.78  2.14               11.2      100.0           2.65   \n",
              "2    13.16        2.36  2.67               18.6      101.0           2.80   \n",
              "3    14.37        1.95  2.50               16.8      113.0           3.85   \n",
              "4    13.24        2.59  2.87               21.0      118.0           2.80   \n",
              "\n",
              "   flavanoids  nonflavanoid_phenols  proanthocyanins  color_intensity   hue  \\\n",
              "0        3.06                  0.28             2.29             5.64  1.04   \n",
              "1        2.76                  0.26             1.28             4.38  1.05   \n",
              "2        3.24                  0.30             2.81             5.68  1.03   \n",
              "3        3.49                  0.24             2.18             7.80  0.86   \n",
              "4        2.69                  0.39             1.82             4.32  1.04   \n",
              "\n",
              "   od280/od315_of_diluted_wines  proline  target  \n",
              "0                          3.92   1065.0       0  \n",
              "1                          3.40   1050.0       0  \n",
              "2                          3.17   1185.0       0  \n",
              "3                          3.45   1480.0       0  \n",
              "4                          2.93    735.0       0  "
            ],
            "text/html": [
              "\n",
              "  <div id=\"df-ced77253-5062-4ec8-b515-f69a43936ab0\" class=\"colab-df-container\">\n",
              "    <div>\n",
              "<style scoped>\n",
              "    .dataframe tbody tr th:only-of-type {\n",
              "        vertical-align: middle;\n",
              "    }\n",
              "\n",
              "    .dataframe tbody tr th {\n",
              "        vertical-align: top;\n",
              "    }\n",
              "\n",
              "    .dataframe thead th {\n",
              "        text-align: right;\n",
              "    }\n",
              "</style>\n",
              "<table border=\"1\" class=\"dataframe\">\n",
              "  <thead>\n",
              "    <tr style=\"text-align: right;\">\n",
              "      <th></th>\n",
              "      <th>alcohol</th>\n",
              "      <th>malic_acid</th>\n",
              "      <th>ash</th>\n",
              "      <th>alcalinity_of_ash</th>\n",
              "      <th>magnesium</th>\n",
              "      <th>total_phenols</th>\n",
              "      <th>flavanoids</th>\n",
              "      <th>nonflavanoid_phenols</th>\n",
              "      <th>proanthocyanins</th>\n",
              "      <th>color_intensity</th>\n",
              "      <th>hue</th>\n",
              "      <th>od280/od315_of_diluted_wines</th>\n",
              "      <th>proline</th>\n",
              "      <th>target</th>\n",
              "    </tr>\n",
              "  </thead>\n",
              "  <tbody>\n",
              "    <tr>\n",
              "      <th>0</th>\n",
              "      <td>14.23</td>\n",
              "      <td>1.71</td>\n",
              "      <td>2.43</td>\n",
              "      <td>15.6</td>\n",
              "      <td>127.0</td>\n",
              "      <td>2.80</td>\n",
              "      <td>3.06</td>\n",
              "      <td>0.28</td>\n",
              "      <td>2.29</td>\n",
              "      <td>5.64</td>\n",
              "      <td>1.04</td>\n",
              "      <td>3.92</td>\n",
              "      <td>1065.0</td>\n",
              "      <td>0</td>\n",
              "    </tr>\n",
              "    <tr>\n",
              "      <th>1</th>\n",
              "      <td>13.20</td>\n",
              "      <td>1.78</td>\n",
              "      <td>2.14</td>\n",
              "      <td>11.2</td>\n",
              "      <td>100.0</td>\n",
              "      <td>2.65</td>\n",
              "      <td>2.76</td>\n",
              "      <td>0.26</td>\n",
              "      <td>1.28</td>\n",
              "      <td>4.38</td>\n",
              "      <td>1.05</td>\n",
              "      <td>3.40</td>\n",
              "      <td>1050.0</td>\n",
              "      <td>0</td>\n",
              "    </tr>\n",
              "    <tr>\n",
              "      <th>2</th>\n",
              "      <td>13.16</td>\n",
              "      <td>2.36</td>\n",
              "      <td>2.67</td>\n",
              "      <td>18.6</td>\n",
              "      <td>101.0</td>\n",
              "      <td>2.80</td>\n",
              "      <td>3.24</td>\n",
              "      <td>0.30</td>\n",
              "      <td>2.81</td>\n",
              "      <td>5.68</td>\n",
              "      <td>1.03</td>\n",
              "      <td>3.17</td>\n",
              "      <td>1185.0</td>\n",
              "      <td>0</td>\n",
              "    </tr>\n",
              "    <tr>\n",
              "      <th>3</th>\n",
              "      <td>14.37</td>\n",
              "      <td>1.95</td>\n",
              "      <td>2.50</td>\n",
              "      <td>16.8</td>\n",
              "      <td>113.0</td>\n",
              "      <td>3.85</td>\n",
              "      <td>3.49</td>\n",
              "      <td>0.24</td>\n",
              "      <td>2.18</td>\n",
              "      <td>7.80</td>\n",
              "      <td>0.86</td>\n",
              "      <td>3.45</td>\n",
              "      <td>1480.0</td>\n",
              "      <td>0</td>\n",
              "    </tr>\n",
              "    <tr>\n",
              "      <th>4</th>\n",
              "      <td>13.24</td>\n",
              "      <td>2.59</td>\n",
              "      <td>2.87</td>\n",
              "      <td>21.0</td>\n",
              "      <td>118.0</td>\n",
              "      <td>2.80</td>\n",
              "      <td>2.69</td>\n",
              "      <td>0.39</td>\n",
              "      <td>1.82</td>\n",
              "      <td>4.32</td>\n",
              "      <td>1.04</td>\n",
              "      <td>2.93</td>\n",
              "      <td>735.0</td>\n",
              "      <td>0</td>\n",
              "    </tr>\n",
              "  </tbody>\n",
              "</table>\n",
              "</div>\n",
              "    <div class=\"colab-df-buttons\">\n",
              "\n",
              "  <div class=\"colab-df-container\">\n",
              "    <button class=\"colab-df-convert\" onclick=\"convertToInteractive('df-ced77253-5062-4ec8-b515-f69a43936ab0')\"\n",
              "            title=\"Convert this dataframe to an interactive table.\"\n",
              "            style=\"display:none;\">\n",
              "\n",
              "  <svg xmlns=\"http://www.w3.org/2000/svg\" height=\"24px\" viewBox=\"0 -960 960 960\">\n",
              "    <path d=\"M120-120v-720h720v720H120Zm60-500h600v-160H180v160Zm220 220h160v-160H400v160Zm0 220h160v-160H400v160ZM180-400h160v-160H180v160Zm440 0h160v-160H620v160ZM180-180h160v-160H180v160Zm440 0h160v-160H620v160Z\"/>\n",
              "  </svg>\n",
              "    </button>\n",
              "\n",
              "  <style>\n",
              "    .colab-df-container {\n",
              "      display:flex;\n",
              "      gap: 12px;\n",
              "    }\n",
              "\n",
              "    .colab-df-convert {\n",
              "      background-color: #E8F0FE;\n",
              "      border: none;\n",
              "      border-radius: 50%;\n",
              "      cursor: pointer;\n",
              "      display: none;\n",
              "      fill: #1967D2;\n",
              "      height: 32px;\n",
              "      padding: 0 0 0 0;\n",
              "      width: 32px;\n",
              "    }\n",
              "\n",
              "    .colab-df-convert:hover {\n",
              "      background-color: #E2EBFA;\n",
              "      box-shadow: 0px 1px 2px rgba(60, 64, 67, 0.3), 0px 1px 3px 1px rgba(60, 64, 67, 0.15);\n",
              "      fill: #174EA6;\n",
              "    }\n",
              "\n",
              "    .colab-df-buttons div {\n",
              "      margin-bottom: 4px;\n",
              "    }\n",
              "\n",
              "    [theme=dark] .colab-df-convert {\n",
              "      background-color: #3B4455;\n",
              "      fill: #D2E3FC;\n",
              "    }\n",
              "\n",
              "    [theme=dark] .colab-df-convert:hover {\n",
              "      background-color: #434B5C;\n",
              "      box-shadow: 0px 1px 3px 1px rgba(0, 0, 0, 0.15);\n",
              "      filter: drop-shadow(0px 1px 2px rgba(0, 0, 0, 0.3));\n",
              "      fill: #FFFFFF;\n",
              "    }\n",
              "  </style>\n",
              "\n",
              "    <script>\n",
              "      const buttonEl =\n",
              "        document.querySelector('#df-ced77253-5062-4ec8-b515-f69a43936ab0 button.colab-df-convert');\n",
              "      buttonEl.style.display =\n",
              "        google.colab.kernel.accessAllowed ? 'block' : 'none';\n",
              "\n",
              "      async function convertToInteractive(key) {\n",
              "        const element = document.querySelector('#df-ced77253-5062-4ec8-b515-f69a43936ab0');\n",
              "        const dataTable =\n",
              "          await google.colab.kernel.invokeFunction('convertToInteractive',\n",
              "                                                    [key], {});\n",
              "        if (!dataTable) return;\n",
              "\n",
              "        const docLinkHtml = 'Like what you see? Visit the ' +\n",
              "          '<a target=\"_blank\" href=https://colab.research.google.com/notebooks/data_table.ipynb>data table notebook</a>'\n",
              "          + ' to learn more about interactive tables.';\n",
              "        element.innerHTML = '';\n",
              "        dataTable['output_type'] = 'display_data';\n",
              "        await google.colab.output.renderOutput(dataTable, element);\n",
              "        const docLink = document.createElement('div');\n",
              "        docLink.innerHTML = docLinkHtml;\n",
              "        element.appendChild(docLink);\n",
              "      }\n",
              "    </script>\n",
              "  </div>\n",
              "\n",
              "\n",
              "<div id=\"df-3e393dc5-4009-4071-ae75-603208b68c76\">\n",
              "  <button class=\"colab-df-quickchart\" onclick=\"quickchart('df-3e393dc5-4009-4071-ae75-603208b68c76')\"\n",
              "            title=\"Suggest charts\"\n",
              "            style=\"display:none;\">\n",
              "\n",
              "<svg xmlns=\"http://www.w3.org/2000/svg\" height=\"24px\"viewBox=\"0 0 24 24\"\n",
              "     width=\"24px\">\n",
              "    <g>\n",
              "        <path d=\"M19 3H5c-1.1 0-2 .9-2 2v14c0 1.1.9 2 2 2h14c1.1 0 2-.9 2-2V5c0-1.1-.9-2-2-2zM9 17H7v-7h2v7zm4 0h-2V7h2v10zm4 0h-2v-4h2v4z\"/>\n",
              "    </g>\n",
              "</svg>\n",
              "  </button>\n",
              "\n",
              "<style>\n",
              "  .colab-df-quickchart {\n",
              "      --bg-color: #E8F0FE;\n",
              "      --fill-color: #1967D2;\n",
              "      --hover-bg-color: #E2EBFA;\n",
              "      --hover-fill-color: #174EA6;\n",
              "      --disabled-fill-color: #AAA;\n",
              "      --disabled-bg-color: #DDD;\n",
              "  }\n",
              "\n",
              "  [theme=dark] .colab-df-quickchart {\n",
              "      --bg-color: #3B4455;\n",
              "      --fill-color: #D2E3FC;\n",
              "      --hover-bg-color: #434B5C;\n",
              "      --hover-fill-color: #FFFFFF;\n",
              "      --disabled-bg-color: #3B4455;\n",
              "      --disabled-fill-color: #666;\n",
              "  }\n",
              "\n",
              "  .colab-df-quickchart {\n",
              "    background-color: var(--bg-color);\n",
              "    border: none;\n",
              "    border-radius: 50%;\n",
              "    cursor: pointer;\n",
              "    display: none;\n",
              "    fill: var(--fill-color);\n",
              "    height: 32px;\n",
              "    padding: 0;\n",
              "    width: 32px;\n",
              "  }\n",
              "\n",
              "  .colab-df-quickchart:hover {\n",
              "    background-color: var(--hover-bg-color);\n",
              "    box-shadow: 0 1px 2px rgba(60, 64, 67, 0.3), 0 1px 3px 1px rgba(60, 64, 67, 0.15);\n",
              "    fill: var(--button-hover-fill-color);\n",
              "  }\n",
              "\n",
              "  .colab-df-quickchart-complete:disabled,\n",
              "  .colab-df-quickchart-complete:disabled:hover {\n",
              "    background-color: var(--disabled-bg-color);\n",
              "    fill: var(--disabled-fill-color);\n",
              "    box-shadow: none;\n",
              "  }\n",
              "\n",
              "  .colab-df-spinner {\n",
              "    border: 2px solid var(--fill-color);\n",
              "    border-color: transparent;\n",
              "    border-bottom-color: var(--fill-color);\n",
              "    animation:\n",
              "      spin 1s steps(1) infinite;\n",
              "  }\n",
              "\n",
              "  @keyframes spin {\n",
              "    0% {\n",
              "      border-color: transparent;\n",
              "      border-bottom-color: var(--fill-color);\n",
              "      border-left-color: var(--fill-color);\n",
              "    }\n",
              "    20% {\n",
              "      border-color: transparent;\n",
              "      border-left-color: var(--fill-color);\n",
              "      border-top-color: var(--fill-color);\n",
              "    }\n",
              "    30% {\n",
              "      border-color: transparent;\n",
              "      border-left-color: var(--fill-color);\n",
              "      border-top-color: var(--fill-color);\n",
              "      border-right-color: var(--fill-color);\n",
              "    }\n",
              "    40% {\n",
              "      border-color: transparent;\n",
              "      border-right-color: var(--fill-color);\n",
              "      border-top-color: var(--fill-color);\n",
              "    }\n",
              "    60% {\n",
              "      border-color: transparent;\n",
              "      border-right-color: var(--fill-color);\n",
              "    }\n",
              "    80% {\n",
              "      border-color: transparent;\n",
              "      border-right-color: var(--fill-color);\n",
              "      border-bottom-color: var(--fill-color);\n",
              "    }\n",
              "    90% {\n",
              "      border-color: transparent;\n",
              "      border-bottom-color: var(--fill-color);\n",
              "    }\n",
              "  }\n",
              "</style>\n",
              "\n",
              "  <script>\n",
              "    async function quickchart(key) {\n",
              "      const quickchartButtonEl =\n",
              "        document.querySelector('#' + key + ' button');\n",
              "      quickchartButtonEl.disabled = true;  // To prevent multiple clicks.\n",
              "      quickchartButtonEl.classList.add('colab-df-spinner');\n",
              "      try {\n",
              "        const charts = await google.colab.kernel.invokeFunction(\n",
              "            'suggestCharts', [key], {});\n",
              "      } catch (error) {\n",
              "        console.error('Error during call to suggestCharts:', error);\n",
              "      }\n",
              "      quickchartButtonEl.classList.remove('colab-df-spinner');\n",
              "      quickchartButtonEl.classList.add('colab-df-quickchart-complete');\n",
              "    }\n",
              "    (() => {\n",
              "      let quickchartButtonEl =\n",
              "        document.querySelector('#df-3e393dc5-4009-4071-ae75-603208b68c76 button');\n",
              "      quickchartButtonEl.style.display =\n",
              "        google.colab.kernel.accessAllowed ? 'block' : 'none';\n",
              "    })();\n",
              "  </script>\n",
              "</div>\n",
              "    </div>\n",
              "  </div>\n"
            ]
          },
          "metadata": {},
          "execution_count": 4
        }
      ],
      "source": [
        "#Defining the loaded dataset as a dataframe (dataframe: 2-dimensional labeled data structure with columns of potentially different types)\n",
        "df = pd.DataFrame(data.data, columns=data.feature_names)\n",
        "#Specifying the target is this dataset\n",
        "df['target'] = data.target\n",
        "#Displaying the first 5 lines of the dataset using head() function (5 is a default value)\n",
        "df.head()"
      ]
    },
    {
      "cell_type": "code",
      "execution_count": 5,
      "metadata": {
        "id": "aK7CaTXFOE9p",
        "colab": {
          "base_uri": "https://localhost:8080/"
        },
        "outputId": "4b7827ff-7513-4e7d-e2b3-fc1ad74f146a"
      },
      "outputs": [
        {
          "output_type": "stream",
          "name": "stdout",
          "text": [
            "<class 'pandas.core.frame.DataFrame'>\n",
            "RangeIndex: 178 entries, 0 to 177\n",
            "Data columns (total 14 columns):\n",
            " #   Column                        Non-Null Count  Dtype  \n",
            "---  ------                        --------------  -----  \n",
            " 0   alcohol                       178 non-null    float64\n",
            " 1   malic_acid                    178 non-null    float64\n",
            " 2   ash                           178 non-null    float64\n",
            " 3   alcalinity_of_ash             178 non-null    float64\n",
            " 4   magnesium                     178 non-null    float64\n",
            " 5   total_phenols                 178 non-null    float64\n",
            " 6   flavanoids                    178 non-null    float64\n",
            " 7   nonflavanoid_phenols          178 non-null    float64\n",
            " 8   proanthocyanins               178 non-null    float64\n",
            " 9   color_intensity               178 non-null    float64\n",
            " 10  hue                           178 non-null    float64\n",
            " 11  od280/od315_of_diluted_wines  178 non-null    float64\n",
            " 12  proline                       178 non-null    float64\n",
            " 13  target                        178 non-null    int64  \n",
            "dtypes: float64(13), int64(1)\n",
            "memory usage: 19.6 KB\n"
          ]
        }
      ],
      "source": [
        "#Almost like DESCR function it gives infos about the variables types and number of null values.\n",
        "df.info()"
      ]
    },
    {
      "cell_type": "code",
      "execution_count": 6,
      "metadata": {
        "id": "lmnbLHkBOHz4",
        "colab": {
          "base_uri": "https://localhost:8080/"
        },
        "outputId": "6d4b422b-d7ff-4056-e8d3-5f0e7a2a24ce"
      },
      "outputs": [
        {
          "output_type": "execute_result",
          "data": {
            "text/plain": [
              "(54, 124)"
            ]
          },
          "metadata": {},
          "execution_count": 6
        }
      ],
      "source": [
        "#This function enables to split the dataset into a training and testing sets.\n",
        "from sklearn.model_selection import train_test_split\n",
        "#iloc is one of the features of dataframe by pandas, Purely integer-location based indexing for selection by position.\n",
        "#In below code we are specifying the target variable (y) and features (X)\n",
        "X, y = df.iloc[:, 1:].values, df.iloc[:, 0].values\n",
        "#Splitting the dataset into training and testing sets\n",
        "X_train, X_test, y_train, y_test = \\\n",
        "        train_test_split(X, y, test_size=0.3, random_state=0)\n",
        "#Displaying the length of the X_test and X_train\n",
        "len(X_test), len(X_train)"
      ]
    },
    {
      "cell_type": "code",
      "execution_count": 7,
      "metadata": {
        "id": "7hgkOhi-QnMo",
        "colab": {
          "base_uri": "https://localhost:8080/"
        },
        "outputId": "8bacf6a2-7f45-412d-edb1-6c6f06fc72ed"
      },
      "outputs": [
        {
          "output_type": "execute_result",
          "data": {
            "text/plain": [
              "array([0.20378151, 0.53763441, 0.30927835, 0.33695652, 0.54316547,\n",
              "       0.73700306, 0.25      , 0.40189873, 0.24068768, 0.48717949,\n",
              "       1.        , 0.5854251 , 0.        ])"
            ]
          },
          "metadata": {},
          "execution_count": 7
        }
      ],
      "source": [
        "#Transform features by scaling each feature to a given range.\n",
        "from sklearn.preprocessing import MinMaxScaler\n",
        "mms = MinMaxScaler()\n",
        " #the fit_transform function fits to data, then transforms it\n",
        "X_train_norm = mms.fit_transform(X_train)\n",
        "X_test_norm = mms.transform(X_test)\n",
        "\n",
        "X_train_norm[0]"
      ]
    },
    {
      "cell_type": "code",
      "execution_count": 8,
      "metadata": {
        "id": "8qnb-mAVQsp_",
        "colab": {
          "base_uri": "https://localhost:8080/"
        },
        "outputId": "6ef29a24-6233-46d9-905a-61313822716e"
      },
      "outputs": [
        {
          "output_type": "execute_result",
          "data": {
            "text/plain": [
              "array([0.16386555, 0.47849462, 0.29896907, 0.52173913, 0.53956835,\n",
              "       0.74311927, 0.13461538, 0.37974684, 0.4364852 , 0.32478632,\n",
              "       0.70695971, 0.60566802, 0.        ])"
            ]
          },
          "metadata": {},
          "execution_count": 8
        }
      ],
      "source": [
        "#Displaying the first raw of X_test after normalization\n",
        "X_test_norm[0]"
      ]
    },
    {
      "cell_type": "code",
      "execution_count": 9,
      "metadata": {
        "id": "fOhYT5fdQvJX"
      },
      "outputs": [],
      "source": [
        "# \"Standardize\" features by removing the mean and \"scaling\" to unit variance.\n",
        "from sklearn.preprocessing import StandardScaler\n",
        "stdsc = StandardScaler()\n",
        "X_train_std = stdsc.fit_transform(X_train)\n",
        "X_test_std = stdsc.transform(X_test)"
      ]
    },
    {
      "cell_type": "code",
      "execution_count": 10,
      "metadata": {
        "id": "YDMe7CFXQ1bf",
        "colab": {
          "base_uri": "https://localhost:8080/"
        },
        "outputId": "442d35f9-32db-4f24-d62e-0edc8a102c7e"
      },
      "outputs": [
        {
          "output_type": "execute_result",
          "data": {
            "text/plain": [
              "array([-0.46259897, -0.01142613, -0.82067872,  0.06241693,  0.58820446,\n",
              "        0.93565436, -0.7619138 ,  0.13007174, -0.51238741,  0.65706596,\n",
              "        1.94354495,  0.93700997, -1.23563443])"
            ]
          },
          "metadata": {},
          "execution_count": 10
        }
      ],
      "source": [
        "X_train_std[0]"
      ]
    },
    {
      "cell_type": "code",
      "execution_count": 11,
      "metadata": {
        "id": "5yeqVqMAQ3cn",
        "colab": {
          "base_uri": "https://localhost:8080/",
          "height": 447
        },
        "outputId": "727d327c-6934-460f-f4c2-17baae8578cd"
      },
      "outputs": [
        {
          "output_type": "execute_result",
          "data": {
            "text/plain": [
              "<matplotlib.collections.PathCollection at 0x7eb114c12950>"
            ]
          },
          "metadata": {},
          "execution_count": 11
        },
        {
          "output_type": "display_data",
          "data": {
            "text/plain": [
              "<Figure size 640x480 with 1 Axes>"
            ],
            "image/png": "[encoded data removed]"
          },
          "metadata": {}
        }
      ],
      "source": [
        "xx = np.arange(len(X_train_std))\n",
        "yy1 = X_train_norm[:,1]\n",
        "yy2 = X_train_std[:,1]\n",
        "#PLot normalised data and standardized data.\n",
        "plt.scatter(xx, yy1, color='g')\n",
        "plt.scatter(xx, yy2, color='y')"
      ]
    },
    {
      "cell_type": "markdown",
      "metadata": {
        "id": "fqBxjrhP58hw"
      },
      "source": [
        "# 5. Training the model"
      ]
    },
    {
      "cell_type": "code",
      "execution_count": 12,
      "metadata": {
        "id": "u1X2IjuARSJa"
      },
      "outputs": [],
      "source": [
        "#importing prebuild logistic regression model\n",
        "from sklearn.linear_model import LogisticRegression\n",
        "#importing all preprocessing functions offered by sklearn\n",
        "from sklearn import preprocessing\n",
        "#contains many utilities : https://scikit-learn.org/stable/modules/classes.html#module-sklearn.utils\n",
        "from sklearn import utils"
      ]
    },
    {
      "cell_type": "code",
      "execution_count": 13,
      "metadata": {
        "id": "-J95S_nPRi34",
        "colab": {
          "base_uri": "https://localhost:8080/",
          "height": 80
        },
        "outputId": "e16823b5-8cac-445a-9c8f-7d692db63e7d"
      },
      "outputs": [
        {
          "output_type": "execute_result",
          "data": {
            "text/plain": [
              "LogisticRegression()"
            ],
            "text/html": [
              "<style>#sk-container-id-1 {\n",
              "  /* Definition of color scheme common for light and dark mode */\n",
              "  --sklearn-color-text: black;\n",
              "  --sklearn-color-line: gray;\n",
              "  /* Definition of color scheme for unfitted estimators */\n",
              "  --sklearn-color-unfitted-level-0: #fff5e6;\n",
              "  --sklearn-color-unfitted-level-1: #f6e4d2;\n",
              "  --sklearn-color-unfitted-level-2: #ffe0b3;\n",
              "  --sklearn-color-unfitted-level-3: chocolate;\n",
              "  /* Definition of color scheme for fitted estimators */\n",
              "  --sklearn-color-fitted-level-0: #f0f8ff;\n",
              "  --sklearn-color-fitted-level-1: #d4ebff;\n",
              "  --sklearn-color-fitted-level-2: #b3dbfd;\n",
              "  --sklearn-color-fitted-level-3: cornflowerblue;\n",
              "\n",
              "  /* Specific color for light theme */\n",
              "  --sklearn-color-text-on-default-background: var(--sg-text-color, var(--theme-code-foreground, var(--jp-content-font-color1, black)));\n",
              "  --sklearn-color-background: var(--sg-background-color, var(--theme-background, var(--jp-layout-color0, white)));\n",
              "  --sklearn-color-border-box: var(--sg-text-color, var(--theme-code-foreground, var(--jp-content-font-color1, black)));\n",
              "  --sklearn-color-icon: #696969;\n",
              "\n",
              "  @media (prefers-color-scheme: dark) {\n",
              "    /* Redefinition of color scheme for dark theme */\n",
              "    --sklearn-color-text-on-default-background: var(--sg-text-color, var(--theme-code-foreground, var(--jp-content-font-color1, white)));\n",
              "    --sklearn-color-background: var(--sg-background-color, var(--theme-background, var(--jp-layout-color0, #111)));\n",
              "    --sklearn-color-border-box: var(--sg-text-color, var(--theme-code-foreground, var(--jp-content-font-color1, white)));\n",
              "    --sklearn-color-icon: #878787;\n",
              "  }\n",
              "}\n",
              "\n",
              "#sk-container-id-1 {\n",
              "  color: var(--sklearn-color-text);\n",
              "}\n",
              "\n",
              "#sk-container-id-1 pre {\n",
              "  padding: 0;\n",
              "}\n",
              "\n",
              "#sk-container-id-1 input.sk-hidden--visually {\n",
              "  border: 0;\n",
              "  clip: rect(1px 1px 1px 1px);\n",
              "  clip: rect(1px, 1px, 1px, 1px);\n",
              "  height: 1px;\n",
              "  margin: -1px;\n",
              "  overflow: hidden;\n",
              "  padding: 0;\n",
              "  position: absolute;\n",
              "  width: 1px;\n",
              "}\n",
              "\n",
              "#sk-container-id-1 div.sk-dashed-wrapped {\n",
              "  border: 1px dashed var(--sklearn-color-line);\n",
              "  margin: 0 0.4em 0.5em 0.4em;\n",
              "  box-sizing: border-box;\n",
              "  padding-bottom: 0.4em;\n",
              "  background-color: var(--sklearn-color-background);\n",
              "}\n",
              "\n",
              "#sk-container-id-1 div.sk-container {\n",
              "  /* jupyter's `normalize.less` sets `[hidden] { display: none; }`\n",
              "     but bootstrap.min.css set `[hidden] { display: none !important; }`\n",
              "     so we also need the `!important` here to be able to override the\n",
              "     default hidden behavior on the sphinx rendered scikit-learn.org.\n",
              "     See: https://github.com/scikit-learn/scikit-learn/issues/21755 */\n",
              "  display: inline-block !important;\n",
              "  position: relative;\n",
              "}\n",
              "\n",
              "#sk-container-id-1 div.sk-text-repr-fallback {\n",
              "  display: none;\n",
              "}\n",
              "\n",
              "div.sk-parallel-item,\n",
              "div.sk-serial,\n",
              "div.sk-item {\n",
              "  /* draw centered vertical line to link estimators */\n",
              "  background-image: linear-gradient(var(--sklearn-color-text-on-default-background), var(--sklearn-color-text-on-default-background));\n",
              "  background-size: 2px 100%;\n",
              "  background-repeat: no-repeat;\n",
              "  background-position: center center;\n",
              "}\n",
              "\n",
              "/* Parallel-specific style estimator block */\n",
              "\n",
              "#sk-container-id-1 div.sk-parallel-item::after {\n",
              "  content: \"\";\n",
              "  width: 100%;\n",
              "  border-bottom: 2px solid var(--sklearn-color-text-on-default-background);\n",
              "  flex-grow: 1;\n",
              "}\n",
              "\n",
              "#sk-container-id-1 div.sk-parallel {\n",
              "  display: flex;\n",
              "  align-items: stretch;\n",
              "  justify-content: center;\n",
              "  background-color: var(--sklearn-color-background);\n",
              "  position: relative;\n",
              "}\n",
              "\n",
              "#sk-container-id-1 div.sk-parallel-item {\n",
              "  display: flex;\n",
              "  flex-direction: column;\n",
              "}\n",
              "\n",
              "#sk-container-id-1 div.sk-parallel-item:first-child::after {\n",
              "  align-self: flex-end;\n",
              "  width: 50%;\n",
              "}\n",
              "\n",
              "#sk-container-id-1 div.sk-parallel-item:last-child::after {\n",
              "  align-self: flex-start;\n",
              "  width: 50%;\n",
              "}\n",
              "\n",
              "#sk-container-id-1 div.sk-parallel-item:only-child::after {\n",
              "  width: 0;\n",
              "}\n",
              "\n",
              "/* Serial-specific style estimator block */\n",
              "\n",
              "#sk-container-id-1 div.sk-serial {\n",
              "  display: flex;\n",
              "  flex-direction: column;\n",
              "  align-items: center;\n",
              "  background-color: var(--sklearn-color-background);\n",
              "  padding-right: 1em;\n",
              "  padding-left: 1em;\n",
              "}\n",
              "\n",
              "\n",
              "/* Toggleable style: style used for estimator/Pipeline/ColumnTransformer box that is\n",
              "clickable and can be expanded/collapsed.\n",
              "- Pipeline and ColumnTransformer use this feature and define the default style\n",
              "- Estimators will overwrite some part of the style using the `sk-estimator` class\n",
              "*/\n",
              "\n",
              "/* Pipeline and ColumnTransformer style (default) */\n",
              "\n",
              "#sk-container-id-1 div.sk-toggleable {\n",
              "  /* Default theme specific background. It is overwritten whether we have a\n",
              "  specific estimator or a Pipeline/ColumnTransformer */\n",
              "  background-color: var(--sklearn-color-background);\n",
              "}\n",
              "\n",
              "/* Toggleable label */\n",
              "#sk-container-id-1 label.sk-toggleable__label {\n",
              "  cursor: pointer;\n",
              "  display: block;\n",
              "  width: 100%;\n",
              "  margin-bottom: 0;\n",
              "  padding: 0.5em;\n",
              "  box-sizing: border-box;\n",
              "  text-align: center;\n",
              "}\n",
              "\n",
              "#sk-container-id-1 label.sk-toggleable__label-arrow:before {\n",
              "  /* Arrow on the left of the label */\n",
              "  content: \"▸\";\n",
              "  float: left;\n",
              "  margin-right: 0.25em;\n",
              "  color: var(--sklearn-color-icon);\n",
              "}\n",
              "\n",
              "#sk-container-id-1 label.sk-toggleable__label-arrow:hover:before {\n",
              "  color: var(--sklearn-color-text);\n",
              "}\n",
              "\n",
              "/* Toggleable content - dropdown */\n",
              "\n",
              "#sk-container-id-1 div.sk-toggleable__content {\n",
              "  max-height: 0;\n",
              "  max-width: 0;\n",
              "  overflow: hidden;\n",
              "  text-align: left;\n",
              "  /* unfitted */\n",
              "  background-color: var(--sklearn-color-unfitted-level-0);\n",
              "}\n",
              "\n",
              "#sk-container-id-1 div.sk-toggleable__content.fitted {\n",
              "  /* fitted */\n",
              "  background-color: var(--sklearn-color-fitted-level-0);\n",
              "}\n",
              "\n",
              "#sk-container-id-1 div.sk-toggleable__content pre {\n",
              "  margin: 0.2em;\n",
              "  border-radius: 0.25em;\n",
              "  color: var(--sklearn-color-text);\n",
              "  /* unfitted */\n",
              "  background-color: var(--sklearn-color-unfitted-level-0);\n",
              "}\n",
              "\n",
              "#sk-container-id-1 div.sk-toggleable__content.fitted pre {\n",
              "  /* unfitted */\n",
              "  background-color: var(--sklearn-color-fitted-level-0);\n",
              "}\n",
              "\n",
              "#sk-container-id-1 input.sk-toggleable__control:checked~div.sk-toggleable__content {\n",
              "  /* Expand drop-down */\n",
              "  max-height: 200px;\n",
              "  max-width: 100%;\n",
              "  overflow: auto;\n",
              "}\n",
              "\n",
              "#sk-container-id-1 input.sk-toggleable__control:checked~label.sk-toggleable__label-arrow:before {\n",
              "  content: \"▾\";\n",
              "}\n",
              "\n",
              "/* Pipeline/ColumnTransformer-specific style */\n",
              "\n",
              "#sk-container-id-1 div.sk-label input.sk-toggleable__control:checked~label.sk-toggleable__label {\n",
              "  color: var(--sklearn-color-text);\n",
              "  background-color: var(--sklearn-color-unfitted-level-2);\n",
              "}\n",
              "\n",
              "#sk-container-id-1 div.sk-label.fitted input.sk-toggleable__control:checked~label.sk-toggleable__label {\n",
              "  background-color: var(--sklearn-color-fitted-level-2);\n",
              "}\n",
              "\n",
              "/* Estimator-specific style */\n",
              "\n",
              "/* Colorize estimator box */\n",
              "#sk-container-id-1 div.sk-estimator input.sk-toggleable__control:checked~label.sk-toggleable__label {\n",
              "  /* unfitted */\n",
              "  background-color: var(--sklearn-color-unfitted-level-2);\n",
              "}\n",
              "\n",
              "#sk-container-id-1 div.sk-estimator.fitted input.sk-toggleable__control:checked~label.sk-toggleable__label {\n",
              "  /* fitted */\n",
              "  background-color: var(--sklearn-color-fitted-level-2);\n",
              "}\n",
              "\n",
              "#sk-container-id-1 div.sk-label label.sk-toggleable__label,\n",
              "#sk-container-id-1 div.sk-label label {\n",
              "  /* The background is the default theme color */\n",
              "  color: var(--sklearn-color-text-on-default-background);\n",
              "}\n",
              "\n",
              "/* On hover, darken the color of the background */\n",
              "#sk-container-id-1 div.sk-label:hover label.sk-toggleable__label {\n",
              "  color: var(--sklearn-color-text);\n",
              "  background-color: var(--sklearn-color-unfitted-level-2);\n",
              "}\n",
              "\n",
              "/* Label box, darken color on hover, fitted */\n",
              "#sk-container-id-1 div.sk-label.fitted:hover label.sk-toggleable__label.fitted {\n",
              "  color: var(--sklearn-color-text);\n",
              "  background-color: var(--sklearn-color-fitted-level-2);\n",
              "}\n",
              "\n",
              "/* Estimator label */\n",
              "\n",
              "#sk-container-id-1 div.sk-label label {\n",
              "  font-family: monospace;\n",
              "  font-weight: bold;\n",
              "  display: inline-block;\n",
              "  line-height: 1.2em;\n",
              "}\n",
              "\n",
              "#sk-container-id-1 div.sk-label-container {\n",
              "  text-align: center;\n",
              "}\n",
              "\n",
              "/* Estimator-specific */\n",
              "#sk-container-id-1 div.sk-estimator {\n",
              "  font-family: monospace;\n",
              "  border: 1px dotted var(--sklearn-color-border-box);\n",
              "  border-radius: 0.25em;\n",
              "  box-sizing: border-box;\n",
              "  margin-bottom: 0.5em;\n",
              "  /* unfitted */\n",
              "  background-color: var(--sklearn-color-unfitted-level-0);\n",
              "}\n",
              "\n",
              "#sk-container-id-1 div.sk-estimator.fitted {\n",
              "  /* fitted */\n",
              "  background-color: var(--sklearn-color-fitted-level-0);\n",
              "}\n",
              "\n",
              "/* on hover */\n",
              "#sk-container-id-1 div.sk-estimator:hover {\n",
              "  /* unfitted */\n",
              "  background-color: var(--sklearn-color-unfitted-level-2);\n",
              "}\n",
              "\n",
              "#sk-container-id-1 div.sk-estimator.fitted:hover {\n",
              "  /* fitted */\n",
              "  background-color: var(--sklearn-color-fitted-level-2);\n",
              "}\n",
              "\n",
              "/* Specification for estimator info (e.g. \"i\" and \"?\") */\n",
              "\n",
              "/* Common style for \"i\" and \"?\" */\n",
              "\n",
              ".sk-estimator-doc-link,\n",
              "a:link.sk-estimator-doc-link,\n",
              "a:visited.sk-estimator-doc-link {\n",
              "  float: right;\n",
              "  font-size: smaller;\n",
              "  line-height: 1em;\n",
              "  font-family: monospace;\n",
              "  background-color: var(--sklearn-color-background);\n",
              "  border-radius: 1em;\n",
              "  height: 1em;\n",
              "  width: 1em;\n",
              "  text-decoration: none !important;\n",
              "  margin-left: 1ex;\n",
              "  /* unfitted */\n",
              "  border: var(--sklearn-color-unfitted-level-1) 1pt solid;\n",
              "  color: var(--sklearn-color-unfitted-level-1);\n",
              "}\n",
              "\n",
              ".sk-estimator-doc-link.fitted,\n",
              "a:link.sk-estimator-doc-link.fitted,\n",
              "a:visited.sk-estimator-doc-link.fitted {\n",
              "  /* fitted */\n",
              "  border: var(--sklearn-color-fitted-level-1) 1pt solid;\n",
              "  color: var(--sklearn-color-fitted-level-1);\n",
              "}\n",
              "\n",
              "/* On hover */\n",
              "div.sk-estimator:hover .sk-estimator-doc-link:hover,\n",
              ".sk-estimator-doc-link:hover,\n",
              "div.sk-label-container:hover .sk-estimator-doc-link:hover,\n",
              ".sk-estimator-doc-link:hover {\n",
              "  /* unfitted */\n",
              "  background-color: var(--sklearn-color-unfitted-level-3);\n",
              "  color: var(--sklearn-color-background);\n",
              "  text-decoration: none;\n",
              "}\n",
              "\n",
              "div.sk-estimator.fitted:hover .sk-estimator-doc-link.fitted:hover,\n",
              ".sk-estimator-doc-link.fitted:hover,\n",
              "div.sk-label-container:hover .sk-estimator-doc-link.fitted:hover,\n",
              ".sk-estimator-doc-link.fitted:hover {\n",
              "  /* fitted */\n",
              "  background-color: var(--sklearn-color-fitted-level-3);\n",
              "  color: var(--sklearn-color-background);\n",
              "  text-decoration: none;\n",
              "}\n",
              "\n",
              "/* Span, style for the box shown on hovering the info icon */\n",
              ".sk-estimator-doc-link span {\n",
              "  display: none;\n",
              "  z-index: 9999;\n",
              "  position: relative;\n",
              "  font-weight: normal;\n",
              "  right: .2ex;\n",
              "  padding: .5ex;\n",
              "  margin: .5ex;\n",
              "  width: min-content;\n",
              "  min-width: 20ex;\n",
              "  max-width: 50ex;\n",
              "  color: var(--sklearn-color-text);\n",
              "  box-shadow: 2pt 2pt 4pt #999;\n",
              "  /* unfitted */\n",
              "  background: var(--sklearn-color-unfitted-level-0);\n",
              "  border: .5pt solid var(--sklearn-color-unfitted-level-3);\n",
              "}\n",
              "\n",
              ".sk-estimator-doc-link.fitted span {\n",
              "  /* fitted */\n",
              "  background: var(--sklearn-color-fitted-level-0);\n",
              "  border: var(--sklearn-color-fitted-level-3);\n",
              "}\n",
              "\n",
              ".sk-estimator-doc-link:hover span {\n",
              "  display: block;\n",
              "}\n",
              "\n",
              "/* \"?\"-specific style due to the `<a>` HTML tag */\n",
              "\n",
              "#sk-container-id-1 a.estimator_doc_link {\n",
              "  float: right;\n",
              "  font-size: 1rem;\n",
              "  line-height: 1em;\n",
              "  font-family: monospace;\n",
              "  background-color: var(--sklearn-color-background);\n",
              "  border-radius: 1rem;\n",
              "  height: 1rem;\n",
              "  width: 1rem;\n",
              "  text-decoration: none;\n",
              "  /* unfitted */\n",
              "  color: var(--sklearn-color-unfitted-level-1);\n",
              "  border: var(--sklearn-color-unfitted-level-1) 1pt solid;\n",
              "}\n",
              "\n",
              "#sk-container-id-1 a.estimator_doc_link.fitted {\n",
              "  /* fitted */\n",
              "  border: var(--sklearn-color-fitted-level-1) 1pt solid;\n",
              "  color: var(--sklearn-color-fitted-level-1);\n",
              "}\n",
              "\n",
              "/* On hover */\n",
              "#sk-container-id-1 a.estimator_doc_link:hover {\n",
              "  /* unfitted */\n",
              "  background-color: var(--sklearn-color-unfitted-level-3);\n",
              "  color: var(--sklearn-color-background);\n",
              "  text-decoration: none;\n",
              "}\n",
              "\n",
              "#sk-container-id-1 a.estimator_doc_link.fitted:hover {\n",
              "  /* fitted */\n",
              "  background-color: var(--sklearn-color-fitted-level-3);\n",
              "}\n",
              "</style><div id=\"sk-container-id-1\" class=\"sk-top-container\"><div class=\"sk-text-repr-fallback\"><pre>LogisticRegression()</pre><b>In a Jupyter environment, please rerun this cell to show the HTML representation or trust the notebook. <br />On GitHub, the HTML representation is unable to render, please try loading this page with nbviewer.org.</b></div><div class=\"sk-container\" hidden><div class=\"sk-item\"><div class=\"sk-estimator  sk-toggleable\"><input class=\"sk-toggleable__control sk-hidden--visually\" id=\"sk-estimator-id-1\" type=\"checkbox\" checked><label for=\"sk-estimator-id-1\" class=\"sk-toggleable__label  sk-toggleable__label-arrow \">&nbsp;&nbsp;LogisticRegression<a class=\"sk-estimator-doc-link \" rel=\"noreferrer\" target=\"_blank\" href=\"https://scikit-learn.org/1.4/modules/generated/sklearn.linear_model.LogisticRegression.html\">?<span>Documentation for LogisticRegression</span></a><span class=\"sk-estimator-doc-link \">i<span>Not fitted</span></span></label><div class=\"sk-toggleable__content \"><pre>LogisticRegression()</pre></div> </div></div></div></div>"
            ]
          },
          "metadata": {},
          "execution_count": 13
        }
      ],
      "source": [
        "#Defining the penalty or loss function as Ridge Regression (l2)\n",
        "LogisticRegression(penalty='l2')"
      ]
    },
    {
      "cell_type": "code",
      "execution_count": 14,
      "metadata": {
        "id": "gzsrdm90Rnia",
        "colab": {
          "base_uri": "https://localhost:8080/",
          "height": 708
        },
        "outputId": "126133aa-182b-486f-eac2-9bd7355b07f6"
      },
      "outputs": [
        {
          "output_type": "stream",
          "name": "stdout",
          "text": [
            " 1) malic_acid                     0.091255\n",
            " 2) ash                            0.088689\n",
            " 3) alcalinity_of_ash              0.088338\n",
            " 4) magnesium                      0.084768\n",
            " 5) total_phenols                  0.084368\n",
            " 6) flavanoids                     0.083987\n",
            " 7) nonflavanoid_phenols           0.081690\n",
            " 8) proanthocyanins                0.079783\n",
            " 9) color_intensity                0.079220\n",
            "10) hue                            0.077335\n",
            "11) od280/od315_of_diluted_wines   0.077285\n",
            "12) proline                        0.069214\n",
            "13) target                         0.014067\n"
          ]
        },
        {
          "output_type": "display_data",
          "data": {
            "text/plain": [
              "<Figure size 640x480 with 1 Axes>"
            ],
            "image/png": "[encoded data removed]"
          },
          "metadata": {}
        }
      ],
      "source": [
        "#Encoding the labels (encoding is techniques to transform categorical values to numerical)\n",
        "lab_enc = preprocessing.LabelEncoder()\n",
        "encoded1 = lab_enc.fit_transform(y_train)\n",
        "encoded2=lab_enc.fit_transform(y_test)\n",
        "#Specifying which colomns contain the labels of the features\n",
        "feat_labels = df.columns[1:]\n",
        "#Defining the classifier\n",
        "forest = RandomForestClassifier(n_estimators=10000, random_state=0, n_jobs=-1)\n",
        "forest.fit(X_train, encoded1)\n",
        "#Defining/calculating and plotting the importance of features (reflects at which point does a feature impact the output of the classifier)\n",
        "importances = forest.feature_importances_\n",
        "indices = np.argsort(importances)[::-1]\n",
        "\n",
        "for f in range(X_train.shape[1]):\n",
        "    print(\"%2d) %-*s %f\" % (f + 1, 30, feat_labels[f],importances[indices[f]]))\n",
        "\n",
        "plt.title('Feature Importances')\n",
        "plt.bar(range(X_train.shape[1]), importances[indices],\n",
        "                     color='cyan', align='center')\n",
        "plt.xticks(range(X_train.shape[1]),feat_labels, rotation=90)\n",
        "plt.xlim([-1, X_train.shape[1]])\n",
        "plt.tight_layout()\n",
        "plt.show()\n",
        "\n"
      ]
    },
    {
      "cell_type": "code",
      "execution_count": 15,
      "metadata": {
        "id": "fy8Y8U2efs3d",
        "colab": {
          "base_uri": "https://localhost:8080/"
        },
        "outputId": "5cbc58e9-a899-4116-c51a-782cf2420329"
      },
      "outputs": [
        {
          "output_type": "stream",
          "name": "stdout",
          "text": [
            "Training accuracy: 0.1774193548387097\n",
            "Test accuracy: 0.018518518518518517\n"
          ]
        }
      ],
      "source": [
        "logi_regr = LogisticRegression(penalty='l2', C=0.1)\n",
        "logi_regr.fit(X_train_std, encoded1)\n",
        "print('Training accuracy:', logi_regr.score(X_train_std, encoded1))\n",
        "print('Test accuracy:', logi_regr.score(X_test_std, encoded2))"
      ]
    },
    {
      "cell_type": "code",
      "execution_count": 16,
      "metadata": {
        "id": "PlfePVsqOQoY",
        "colab": {
          "base_uri": "https://localhost:8080/"
        },
        "outputId": "e576f529-c9cf-4815-e4b9-d4fd96889b46"
      },
      "outputs": [
        {
          "output_type": "execute_result",
          "data": {
            "text/plain": [
              "array([-0.14653557, -0.08293898, -0.16256289, -0.11249549, -0.08161775,\n",
              "       -0.11445356, -0.10490321, -0.13477176, -0.12393461,  0.5212277 ,\n",
              "        0.60858802, -0.14158047,  0.56068215, -0.08565579,  1.08639693,\n",
              "       -0.09922314, -0.18939996, -0.22583751, -0.09397669, -0.24345573,\n",
              "        0.92900335, -0.14316548, -0.07541057,  1.11501443,  0.85746085,\n",
              "       -0.23199316, -0.2377335 , -0.1525388 , -0.27159106, -0.18167771,\n",
              "       -0.09669739,  0.58385461,  0.59361413,  0.35635688, -0.1869649 ,\n",
              "       -0.19673329, -0.14933604,  0.61468341, -0.14123386, -0.23581024,\n",
              "        0.59638916, -0.16365785, -0.22311983, -0.12805637,  0.97315322,\n",
              "       -0.12063593, -0.21651446, -0.16707353,  0.61452459,  0.27265841,\n",
              "       -0.16128801, -0.21797425, -0.08432772, -0.22785563, -0.1144374 ,\n",
              "       -0.15554584, -0.10836612, -0.18634306, -0.09523741, -0.21214117,\n",
              "       -0.09118908, -0.19642062,  0.57602424, -0.08755891, -0.21005331,\n",
              "       -0.10874772, -0.19576008, -0.18252248, -0.15192669, -0.16725312,\n",
              "       -0.09970419, -0.10824676,  0.60601398, -0.2162551 , -0.22839702,\n",
              "       -0.13992294, -0.16218576, -0.24085756, -0.13877374, -0.20621304,\n",
              "        0.47816516, -0.14770611, -0.20111486, -0.17560734, -0.17868775,\n",
              "       -0.13548839, -0.18868508,  0.39148528, -0.11909081, -0.25268334,\n",
              "       -0.18274725, -0.17997171, -0.20443982, -0.27615257,  0.23534348,\n",
              "       -0.14820216, -0.22127097])"
            ]
          },
          "metadata": {},
          "execution_count": 16
        }
      ],
      "source": [
        "logi_regr.intercept_"
      ]
    },
    {
      "cell_type": "code",
      "execution_count": 17,
      "metadata": {
        "id": "TsjEvflvcwFG",
        "colab": {
          "base_uri": "https://localhost:8080/"
        },
        "outputId": "73f9b741-70fb-4615-9b68-0d897aada533"
      },
      "outputs": [
        {
          "output_type": "execute_result",
          "data": {
            "text/plain": [
              "array([[-0.05912544, -0.05144852,  0.05082054, ...,  0.02035655,\n",
              "        -0.09638967,  0.01482599],\n",
              "       [ 0.00567675,  0.01754974,  0.01579448, ...,  0.09119655,\n",
              "        -0.04260042,  0.01899306],\n",
              "       [ 0.11588466, -0.17792709,  0.01232137, ...,  0.00727453,\n",
              "        -0.06292702,  0.02088903],\n",
              "       ...,\n",
              "       [ 0.10344396, -0.02820853, -0.19012795, ...,  0.06626077,\n",
              "         0.20987631, -0.10179876],\n",
              "       [-0.02831288,  0.02929524, -0.10921799, ...,  0.1055518 ,\n",
              "         0.13987212, -0.0839709 ],\n",
              "       [-0.03584479,  0.01022898, -0.18705922, ..., -0.01701091,\n",
              "         0.0864016 , -0.07473684]])"
            ]
          },
          "metadata": {},
          "execution_count": 17
        }
      ],
      "source": [
        "logi_regr.coef_"
      ]
    },
    {
      "cell_type": "code",
      "execution_count": 18,
      "metadata": {
        "id": "9-d6VQQYcyNU",
        "colab": {
          "base_uri": "https://localhost:8080/",
          "height": 458
        },
        "outputId": "cba886aa-7ae9-46bc-bc1e-341c3923104f"
      },
      "outputs": [
        {
          "output_type": "display_data",
          "data": {
            "text/plain": [
              "<Figure size 640x480 with 1 Axes>"
            ],
            "image/png": "[encoded data removed]"
          },
          "metadata": {}
        }
      ],
      "source": [
        "#Plotting the evolution of the classifier's weights :\n",
        "fig = plt.figure()\n",
        "ax = plt.subplot(111)\n",
        "colors = ['blue', 'green', 'red', 'cyan',\n",
        "'magenta', 'yellow', 'black',\n",
        "'pink', 'lightgreen', 'lightblue',\n",
        "'gray', 'indigo', 'orange']\n",
        "weights, params = [], []\n",
        "for c in np.arange(0, 6):\n",
        "    lr = LogisticRegression(penalty='l2',C=10**c, random_state=0)\n",
        "    lr.fit(X_train_std, encoded1)\n",
        "    weights.append(lr.coef_[1])\n",
        "    params.append(10**c)\n",
        "weights = np.array(weights)\n",
        "for column, color in zip(range(weights.shape[1]), colors):\n",
        "    plt.plot(params, weights[:, column],\n",
        "        label=df.columns[column+1], color=color)\n",
        "plt.axhline(0, color='black', linestyle='--', linewidth=3)\n",
        "plt.xlim([10**(-5), 10**5])\n",
        "plt.ylabel('weight coefficient')\n",
        "plt.xlabel('C')\n",
        "plt.xscale('log')\n",
        "plt.legend(loc='upper left')\n",
        "plt.legend(loc='upper center',\n",
        "bbox_to_anchor=(1.38, 1.03),\n",
        "ncol=1, fancybox=True)\n",
        "plt.show()"
      ]
    },
    {
      "cell_type": "markdown",
      "metadata": {
        "id": "s9rE1B0Ciquq"
      },
      "source": [
        "# 6. Building ML models using sklearn package"
      ]
    },
    {
      "cell_type": "code",
      "execution_count": 19,
      "metadata": {
        "id": "CVZas_XuxDS6",
        "colab": {
          "base_uri": "https://localhost:8080/"
        },
        "outputId": "e18069a5-24ef-44b0-a907-b7aef529c1e8"
      },
      "outputs": [
        {
          "output_type": "execute_result",
          "data": {
            "text/plain": [
              "0.631578947368421"
            ]
          },
          "metadata": {},
          "execution_count": 19
        }
      ],
      "source": [
        "#those modules can be uploaded seperatly or in the same time it won t change much. the datasets contain vanilla datasets like Boston House Prices, Iris dataset and others.\n",
        "# the neighbors module contain such functions to implement the k-nearest neighbors algorithm while the preprocessing contain many prebuilt functions to process the data with already conventioned techniques.\n",
        "from sklearn import neighbors, datasets, preprocessing\n",
        " #train_test_split is a specific function in the model selection submodule of sklearn that enables you to split your data according to a norm and split rate that you choose.\n",
        "from sklearn.model_selection import train_test_split\n",
        "#metrics of sklearn enebales you to use prebuilt metrics for classification, regression...\n",
        "from sklearn.metrics import accuracy_score\n",
        "\n",
        "#In the following are some example of how to use the previously imported librarries:\n",
        "#You will notice that only with few lines of code we can upload the dataset:\n",
        "\n",
        "iris = datasets.load_iris()\n",
        "\n",
        "#We then decided what are the predictors and reponse :\n",
        "\n",
        "X, y = iris.data[:, :2], iris.target\n",
        "\n",
        "#We split the dataset into training and testing dataset\n",
        "\n",
        "X_train, X_test, y_train, y_test = train_test_split(X, y, random_state=33)\n",
        "\n",
        "#We processed the data applying standardization using the standardscaler function to standardize features by removing the mean and scaling to unit variance\n",
        "scaler = preprocessing.StandardScaler().fit(X_train)\n",
        "X_train = scaler.transform(X_train)\n",
        "X_test = scaler.transform(X_test)\n",
        "\n",
        "#build the model, here in this case, we are using a KNN (K-Nearest Neighbors)\n",
        "knn = neighbors.KNeighborsClassifier(n_neighbors=5)\n",
        "\n",
        "#Train the model using the fit function\n",
        "knn.fit(X_train, y_train)\n",
        "\n",
        "#Test the model using our dataset (test set)\n",
        "y_pred = knn.predict(X_test)\n",
        "\n",
        "#Evalute the model using functions from the submodule: metrics from sklearn, in this case we are using the accuracy score\n",
        "accuracy_score(y_test, y_pred)"
      ]
    },
    {
      "cell_type": "markdown",
      "metadata": {
        "id": "aQudGjMoi4tQ"
      },
      "source": [
        "If we trying to go more into details in this process:"
      ]
    },
    {
      "cell_type": "markdown",
      "metadata": {
        "id": "POYCGhvSU3ld"
      },
      "source": [
        "# 7. Preprocessing data"
      ]
    },
    {
      "cell_type": "markdown",
      "metadata": {
        "id": "phHoJR1ChYDO"
      },
      "source": [
        "### Standardization"
      ]
    },
    {
      "cell_type": "code",
      "execution_count": 20,
      "metadata": {
        "id": "ae7G_KF5f7CD"
      },
      "outputs": [],
      "source": [
        "from sklearn.preprocessing import StandardScaler\n",
        "scaler = StandardScaler().fit(X_train)\n",
        "standardized_X = scaler.transform(X_train)\n",
        "standardized_X_test = scaler.transform(X_test)"
      ]
    },
    {
      "cell_type": "markdown",
      "metadata": {
        "id": "J7FPqUfxhfmF"
      },
      "source": [
        "### Normalization"
      ]
    },
    {
      "cell_type": "code",
      "execution_count": 21,
      "metadata": {
        "id": "s9Hb9ALjf73D"
      },
      "outputs": [],
      "source": [
        "from sklearn.preprocessing import Normalizer\n",
        "scaler = Normalizer().fit(X_train)\n",
        "normalized_X = scaler.transform(X_train)\n",
        "normalized_X_test = scaler.transform(X_test)"
      ]
    },
    {
      "cell_type": "markdown",
      "metadata": {
        "id": "ZAq_APJdhict"
      },
      "source": [
        "### Binarization"
      ]
    },
    {
      "cell_type": "code",
      "execution_count": 22,
      "metadata": {
        "id": "-Img7nmygDqK"
      },
      "outputs": [],
      "source": [
        "from sklearn.preprocessing import Binarizer\n",
        "binarizer = Binarizer(threshold=0.0).fit(X)\n",
        "binary_X = binarizer.transform(X)"
      ]
    },
    {
      "cell_type": "markdown",
      "metadata": {
        "id": "YiqgwGwXhl3N"
      },
      "source": [
        "### Encoding Categorical Features"
      ]
    },
    {
      "cell_type": "code",
      "execution_count": 23,
      "metadata": {
        "id": "n6vwQZLDgESo"
      },
      "outputs": [],
      "source": [
        "from sklearn.preprocessing import LabelEncoder\n",
        "enc = LabelEncoder()\n",
        "y = enc.fit_transform(y)"
      ]
    },
    {
      "cell_type": "markdown",
      "metadata": {
        "id": "ncXb3XeChqNj"
      },
      "source": [
        "### Imputing missing values"
      ]
    },
    {
      "cell_type": "code",
      "execution_count": 24,
      "metadata": {
        "id": "qR9Bzm5NgGow",
        "colab": {
          "base_uri": "https://localhost:8080/"
        },
        "outputId": "ea04cbd9-655d-4174-c5cc-08d323fa318a"
      },
      "outputs": [
        {
          "output_type": "execute_result",
          "data": {
            "text/plain": [
              "array([[-0.91090798, -1.59775374],\n",
              "       [-1.0271058 ,  0.08448757],\n",
              "       [ 0.59966379, -1.59775374],\n",
              "       [ 0.01867465, -0.96691325],\n",
              "       [ 0.48346596, -0.33607276],\n",
              "       [-1.25950146,  0.29476773],\n",
              "       [-1.37569929,  0.71532806],\n",
              "       [-0.79471015, -1.17719341],\n",
              "       [-1.14330363,  0.71532806],\n",
              "       [ 2.45882905,  1.55644871],\n",
              "       [-0.79471015,  0.71532806],\n",
              "       [-0.79471015,  1.34616854],\n",
              "       [-0.21372101, -0.33607276],\n",
              "       [ 0.83205945, -0.1257926 ],\n",
              "       [-0.44611666,  1.76672887],\n",
              "       [ 1.41304859,  0.29476773],\n",
              "       [ 0.01867465, -0.54635292],\n",
              "       [ 2.22643339, -0.96691325],\n",
              "       [-0.32991883, -1.17719341],\n",
              "       [ 0.13487248,  0.29476773],\n",
              "       [-1.0271058 ,  1.13588838],\n",
              "       [-1.49189712, -1.59775374],\n",
              "       [ 0.59966379, -0.54635292],\n",
              "       [-1.60809495, -0.33607276],\n",
              "       [-0.91090798,  1.13588838],\n",
              "       [ 1.64544425, -0.1257926 ],\n",
              "       [ 0.25107031,  0.71532806],\n",
              "       [ 0.48346596, -1.8080339 ],\n",
              "       [ 1.8778399 , -0.54635292],\n",
              "       [ 1.18065293, -0.1257926 ],\n",
              "       [ 0.71586162, -0.54635292],\n",
              "       [-0.09752318, -1.17719341],\n",
              "       [-0.91090798,  0.92560822],\n",
              "       [-0.79471015,  1.55644871],\n",
              "       [ 1.18065293, -0.54635292],\n",
              "       [-0.67851232, -0.75663309],\n",
              "       [-0.79471015,  1.55644871],\n",
              "       [-0.21372101, -1.17719341],\n",
              "       [ 0.36726814, -0.1257926 ],\n",
              "       [ 0.94825728, -0.33607276],\n",
              "       [ 0.71586162, -0.54635292],\n",
              "       [-1.72429277, -0.1257926 ],\n",
              "       [ 1.64544425,  1.13588838],\n",
              "       [-0.79471015,  0.92560822],\n",
              "       [ 0.59966379, -1.17719341],\n",
              "       [-1.60809495,  0.29476773],\n",
              "       [ 2.11023556, -0.1257926 ],\n",
              "       [ 0.71586162,  0.29476773],\n",
              "       [-0.79471015,  1.55644871],\n",
              "       [ 0.83205945,  0.29476773],\n",
              "       [ 0.59966379, -0.75663309],\n",
              "       [-0.91090798,  0.92560822],\n",
              "       [-0.67851232,  0.71532806],\n",
              "       [ 0.71586162, -0.75663309],\n",
              "       [ 0.01867465,  1.97700903],\n",
              "       [-0.09752318,  2.81812969],\n",
              "       [-1.37569929,  0.29476773],\n",
              "       [ 1.29685076,  0.08448757],\n",
              "       [ 0.59966379, -0.33607276],\n",
              "       [-0.32991883,  0.92560822],\n",
              "       [-0.09752318, -0.96691325],\n",
              "       [-0.91090798,  0.50504789],\n",
              "       [ 0.25107031, -1.8080339 ],\n",
              "       [-1.0271058 , -0.1257926 ],\n",
              "       [-0.91090798, -2.22859423],\n",
              "       [ 0.94825728, -0.1257926 ],\n",
              "       [-0.09752318, -0.54635292],\n",
              "       [-0.32991883, -0.96691325],\n",
              "       [-0.32991883, -1.59775374],\n",
              "       [-1.14330363,  0.08448757],\n",
              "       [ 0.25107031, -0.33607276],\n",
              "       [-0.91090798, -0.1257926 ],\n",
              "       [ 1.29685076,  0.08448757],\n",
              "       [ 1.06445511, -1.17719341],\n",
              "       [-0.56231449,  1.34616854],\n",
              "       [-0.67851232,  2.1872892 ],\n",
              "       [-0.91090798,  0.71532806],\n",
              "       [-1.37569929,  1.13588838],\n",
              "       [ 2.22643339,  1.55644871],\n",
              "       [ 1.76164208, -0.33607276],\n",
              "       [-1.37569929,  0.08448757],\n",
              "       [-0.32991883, -1.38747358],\n",
              "       [ 0.01867465, -0.75663309],\n",
              "       [ 1.06445511,  0.50504789],\n",
              "       [ 0.01867465, -0.75663309],\n",
              "       [-0.44611666,  1.34616854],\n",
              "       [-0.91090798,  0.71532806],\n",
              "       [ 0.25107031, -0.75663309],\n",
              "       [-0.09752318, -0.54635292],\n",
              "       [ 0.36726814, -0.54635292],\n",
              "       [-0.79471015,  0.50504789],\n",
              "       [-0.21372101, -0.1257926 ],\n",
              "       [-0.44611666, -0.1257926 ],\n",
              "       [-0.44611666,  1.76672887],\n",
              "       [ 1.06445511,  0.50504789],\n",
              "       [-1.0271058 , -1.17719341],\n",
              "       [ 0.48346596,  0.71532806],\n",
              "       [-0.32991883, -1.38747358],\n",
              "       [ 2.22643339, -0.54635292],\n",
              "       [-0.44611666,  0.71532806],\n",
              "       [ 1.06445511, -0.1257926 ],\n",
              "       [-0.32991883,  2.39756936],\n",
              "       [-0.91090798,  0.29476773],\n",
              "       [-1.14330363, -0.1257926 ],\n",
              "       [ 0.01867465, -0.75663309],\n",
              "       [ 0.13487248, -0.1257926 ],\n",
              "       [ 1.52924642, -0.1257926 ],\n",
              "       [-1.0271058 , -1.38747358],\n",
              "       [ 0.59966379, -1.17719341],\n",
              "       [-0.21372101, -0.1257926 ],\n",
              "       [ 2.22643339, -0.1257926 ],\n",
              "       [-0.44611666,  0.71532806]])"
            ]
          },
          "metadata": {},
          "execution_count": 24
        }
      ],
      "source": [
        "from sklearn.impute import SimpleImputer\n",
        "imp = SimpleImputer(missing_values=0, strategy='mean')\n",
        "imp.fit_transform(X_train)"
      ]
    },
    {
      "cell_type": "markdown",
      "metadata": {
        "id": "v8qOQ5eghthi"
      },
      "source": [
        "## Generating Polynomial features"
      ]
    },
    {
      "cell_type": "code",
      "execution_count": 25,
      "metadata": {
        "id": "PVVieIxMgI9I",
        "colab": {
          "base_uri": "https://localhost:8080/"
        },
        "outputId": "69b5820a-8cf7-4b1a-acb6-1c179b724d58"
      },
      "outputs": [
        {
          "output_type": "execute_result",
          "data": {
            "text/plain": [
              "array([[1.00000000e+00, 5.10000000e+00, 3.50000000e+00, ...,\n",
              "        1.11517875e+03, 7.65318750e+02, 5.25218750e+02],\n",
              "       [1.00000000e+00, 4.90000000e+00, 3.00000000e+00, ...,\n",
              "        6.48270000e+02, 3.96900000e+02, 2.43000000e+02],\n",
              "       [1.00000000e+00, 4.70000000e+00, 3.20000000e+00, ...,\n",
              "        7.23845120e+02, 4.92830720e+02, 3.35544320e+02],\n",
              "       ...,\n",
              "       [1.00000000e+00, 6.50000000e+00, 3.00000000e+00, ...,\n",
              "        1.14075000e+03, 5.26500000e+02, 2.43000000e+02],\n",
              "       [1.00000000e+00, 6.20000000e+00, 3.40000000e+00, ...,\n",
              "        1.51084576e+03, 8.28528320e+02, 4.54354240e+02],\n",
              "       [1.00000000e+00, 5.90000000e+00, 3.00000000e+00, ...,\n",
              "        9.39870000e+02, 4.77900000e+02, 2.43000000e+02]])"
            ]
          },
          "metadata": {},
          "execution_count": 25
        }
      ],
      "source": [
        "from sklearn.preprocessing import PolynomialFeatures\n",
        "poly = PolynomialFeatures(5)\n",
        "poly.fit_transform(X)"
      ]
    },
    {
      "cell_type": "markdown",
      "metadata": {
        "id": "DnwYFVxxhx5W"
      },
      "source": [
        "# 8. Training and testing data"
      ]
    },
    {
      "cell_type": "code",
      "execution_count": 26,
      "metadata": {
        "id": "cPqGAn55gLIS"
      },
      "outputs": [],
      "source": [
        "from sklearn.model_selection import train_test_split\n",
        "X_train, X_test, y_train, y_test = train_test_split(X,y,random_state=0)"
      ]
    },
    {
      "cell_type": "markdown",
      "metadata": {
        "id": "hlDxajilh13L"
      },
      "source": [
        "# 9. Model creation"
      ]
    },
    {
      "cell_type": "markdown",
      "metadata": {
        "id": "xpUpNMWUVKGe"
      },
      "source": [
        "## Linear regression"
      ]
    },
    {
      "cell_type": "code",
      "execution_count": 27,
      "metadata": {
        "id": "1I0FMq-RgOTI"
      },
      "outputs": [],
      "source": [
        "from sklearn.linear_model import LinearRegression\n",
        "lr = LinearRegression()"
      ]
    },
    {
      "cell_type": "markdown",
      "metadata": {
        "id": "_paZ26uTiDH3"
      },
      "source": [
        "## Support Vector Machines"
      ]
    },
    {
      "cell_type": "code",
      "execution_count": 28,
      "metadata": {
        "id": "HTvZ-TW9glYz"
      },
      "outputs": [],
      "source": [
        "from sklearn.svm import SVC\n",
        "svc = SVC(kernel='linear')"
      ]
    },
    {
      "cell_type": "markdown",
      "metadata": {
        "id": "mO_zEeHciI_t"
      },
      "source": [
        "## Naive Bayes"
      ]
    },
    {
      "cell_type": "code",
      "execution_count": 29,
      "metadata": {
        "id": "j0m1o1OrgnEH"
      },
      "outputs": [],
      "source": [
        "from sklearn.naive_bayes import GaussianNB\n",
        "gnb = GaussianNB()"
      ]
    },
    {
      "cell_type": "markdown",
      "metadata": {
        "id": "fZt88Vm7iNeD"
      },
      "source": [
        "## KNN"
      ]
    },
    {
      "cell_type": "code",
      "execution_count": 30,
      "metadata": {
        "id": "txuBQ69Ygoh4"
      },
      "outputs": [],
      "source": [
        "from sklearn import neighbors\n",
        "knn = neighbors.KNeighborsClassifier(n_neighbors=5)"
      ]
    },
    {
      "cell_type": "markdown",
      "metadata": {
        "id": "eQnM0A7RiRLr"
      },
      "source": [
        "# 10. USING Principal Componenent Analysis"
      ]
    },
    {
      "cell_type": "code",
      "execution_count": 31,
      "metadata": {
        "id": "LtIZXKXrgqBa"
      },
      "outputs": [],
      "source": [
        "from sklearn.decomposition import PCA\n",
        "pca = PCA(n_components=0.95)"
      ]
    },
    {
      "cell_type": "markdown",
      "metadata": {
        "id": "UOh_1h-xFwS7"
      },
      "source": [
        "<a name=\"ex_1\"></a>\n",
        "# Exercise 1"
      ]
    },
    {
      "cell_type": "code",
      "source": [
        "pip install --upgrade scikit-learn"
      ],
      "metadata": {
        "colab": {
          "base_uri": "https://localhost:8080/"
        },
        "id": "XFrc5jg2GVc4",
        "outputId": "a1876711-fd5c-4eeb-c5f6-94cec2b3358e"
      },
      "execution_count": 32,
      "outputs": [
        {
          "output_type": "stream",
          "name": "stdout",
          "text": [
            "Requirement already satisfied: scikit-learn in /usr/local/lib/python3.10/dist-packages (1.4.0)\n",
            "Requirement already satisfied: numpy<2.0,>=1.19.5 in /usr/local/lib/python3.10/dist-packages (from scikit-learn) (1.23.5)\n",
            "Requirement already satisfied: scipy>=1.6.0 in /usr/local/lib/python3.10/dist-packages (from scikit-learn) (1.11.4)\n",
            "Requirement already satisfied: joblib>=1.2.0 in /usr/local/lib/python3.10/dist-packages (from scikit-learn) (1.3.2)\n",
            "Requirement already satisfied: threadpoolctl>=2.0.0 in /usr/local/lib/python3.10/dist-packages (from scikit-learn) (3.2.0)\n"
          ]
        }
      ]
    },
    {
      "cell_type": "code",
      "execution_count": 39,
      "metadata": {
        "id": "LG0ABNqHFxlT",
        "colab": {
          "base_uri": "https://localhost:8080/",
          "height": 1000
        },
        "outputId": "9058b48b-ffd1-4caf-8e0b-e11e7a0d42e6"
      },
      "outputs": [
        {
          "output_type": "stream",
          "name": "stdout",
          "text": [
            "\n",
            "Results for LogisticRegression:\n",
            "\n",
            "Cross-Validation Score: 0.9384615384615385\n",
            "\n",
            "Confusion Matrix:\n",
            "[[39  4]\n",
            " [ 1 70]]\n",
            "\n",
            "Classification Report:\n",
            "              precision    recall  f1-score   support\n",
            "\n",
            "           0       0.97      0.91      0.94        43\n",
            "           1       0.95      0.99      0.97        71\n",
            "\n",
            "    accuracy                           0.96       114\n",
            "   macro avg       0.96      0.95      0.95       114\n",
            "weighted avg       0.96      0.96      0.96       114\n",
            "\n",
            "\n",
            "Precision: 0.9459459459459459\n",
            "Recall: 0.9859154929577465\n",
            "F1-Score: 0.9655172413793104\n"
          ]
        },
        {
          "output_type": "display_data",
          "data": {
            "text/plain": [
              "<Figure size 800x800 with 1 Axes>"
            ],
            "image/png": "[encoded data removed]"
          },
          "metadata": {}
        },
        {
          "output_type": "stream",
          "name": "stdout",
          "text": [
            "\n",
            "Results for SVC:\n",
            "\n",
            "Cross-Validation Score: 0.956043956043956\n",
            "\n",
            "Confusion Matrix:\n",
            "[[39  4]\n",
            " [ 1 70]]\n",
            "\n",
            "Classification Report:\n",
            "              precision    recall  f1-score   support\n",
            "\n",
            "           0       0.97      0.91      0.94        43\n",
            "           1       0.95      0.99      0.97        71\n",
            "\n",
            "    accuracy                           0.96       114\n",
            "   macro avg       0.96      0.95      0.95       114\n",
            "weighted avg       0.96      0.96      0.96       114\n",
            "\n",
            "\n",
            "Precision: 0.9459459459459459\n",
            "Recall: 0.9859154929577465\n",
            "F1-Score: 0.9655172413793104\n"
          ]
        },
        {
          "output_type": "display_data",
          "data": {
            "text/plain": [
              "<Figure size 800x800 with 1 Axes>"
            ],
            "image/png": "[encoded data removed]"
          },
          "metadata": {}
        },
        {
          "output_type": "stream",
          "name": "stdout",
          "text": [
            "\n",
            "Results for KNeighborsClassifier:\n",
            "\n",
            "Cross-Validation Score: 0.9230769230769231\n",
            "\n",
            "Confusion Matrix:\n",
            "[[38  5]\n",
            " [ 0 71]]\n",
            "\n",
            "Classification Report:\n",
            "              precision    recall  f1-score   support\n",
            "\n",
            "           0       1.00      0.88      0.94        43\n",
            "           1       0.93      1.00      0.97        71\n",
            "\n",
            "    accuracy                           0.96       114\n",
            "   macro avg       0.97      0.94      0.95       114\n",
            "weighted avg       0.96      0.96      0.96       114\n",
            "\n",
            "\n",
            "Precision: 0.9342105263157895\n",
            "Recall: 1.0\n",
            "F1-Score: 0.9659863945578231\n"
          ]
        },
        {
          "output_type": "display_data",
          "data": {
            "text/plain": [
              "<Figure size 800x800 with 1 Axes>"
            ],
            "image/png": "[encoded data removed]"
          },
          "metadata": {}
        },
        {
          "output_type": "stream",
          "name": "stdout",
          "text": [
            "\n",
            "Results for RandomForestClassifier:\n",
            "\n",
            "Cross-Validation Score: 0.9604395604395604\n",
            "\n",
            "Confusion Matrix:\n",
            "[[40  3]\n",
            " [ 2 69]]\n",
            "\n",
            "Classification Report:\n",
            "              precision    recall  f1-score   support\n",
            "\n",
            "           0       0.95      0.93      0.94        43\n",
            "           1       0.96      0.97      0.97        71\n",
            "\n",
            "    accuracy                           0.96       114\n",
            "   macro avg       0.96      0.95      0.95       114\n",
            "weighted avg       0.96      0.96      0.96       114\n",
            "\n",
            "\n",
            "Precision: 0.9583333333333334\n",
            "Recall: 0.971830985915493\n",
            "F1-Score: 0.965034965034965\n"
          ]
        },
        {
          "output_type": "display_data",
          "data": {
            "text/plain": [
              "<Figure size 800x800 with 1 Axes>"
            ],
            "image/png": "[encoded data removed]"
          },
          "metadata": {}
        }
      ],
      "source": [
        "#import the : numpy, pandas, and matplotlib libraries\n",
        "#import the dataset, models, and evaluation metrics from sklearn :\n",
        "\"\"\"\n",
        "Import:\n",
        "Logistic Regression from the sklearn.linear_model\n",
        "Linear Support Vector Machines for classification from the sklearn.svm\n",
        "Kneirest neighbors classfier from sklearn neighbors\n",
        "Random Forest Classifier from sklearn.ensemble\n",
        "train_test_split, cross_val_score, RandomizedSearchCV, GridSearchCV from sklearn.model_selection\n",
        "confusion_matrix, classification_report, precision_score, recall_score, f1_score, plot_roc_curve from sklearn.metrics\n",
        "load_breast_cancer from sklearn.datasets\n",
        "\"\"\"\n",
        "# Turn the feature data into a dataframe\n",
        "# Add the target columns, and fill it with the target data\n",
        "# Show the dataframe\n",
        "# See the dataframe information\n",
        "#Divide data into train and test sets\n",
        "\"\"\"\n",
        "this can be done in two steps:\n",
        "step1:\n",
        "Divide data into X (features) and y (target)\n",
        "\n",
        "step2:\n",
        "Divide data into test and training sets using train_test_split\n",
        "\n",
        "\"\"\"\n",
        "#Train the models imported\n",
        "#Using metrics imported, show all results of trained models\n",
        "\n",
        "#Write your code here\n",
        "\n",
        "import numpy as np\n",
        "import pandas as pd\n",
        "import matplotlib.pyplot as plt\n",
        "from sklearn.linear_model import LogisticRegression\n",
        "from sklearn.svm import SVC\n",
        "from sklearn.neighbors import KNeighborsClassifier\n",
        "from sklearn.ensemble import RandomForestClassifier\n",
        "from sklearn.model_selection import train_test_split, cross_val_score\n",
        "from sklearn.metrics import confusion_matrix, classification_report, precision_score, recall_score, f1_score, roc_curve, auc\n",
        "from sklearn.datasets import load_breast_cancer\n",
        "\n",
        "# Import the breast cancer dataset\n",
        "data = load_breast_cancer()\n",
        "X = pd.DataFrame(data.data, columns=data.feature_names)\n",
        "y = pd.Series(data.target, name='target')\n",
        "\n",
        "# Divide data into test and training sets\n",
        "X_train, X_test, y_train, y_test = train_test_split(X, y, test_size=0.2, random_state=42)\n",
        "\n",
        "# Train the models\n",
        "# Logistic Regression\n",
        "log_reg_model = LogisticRegression()\n",
        "log_reg_model.fit(X_train, y_train)\n",
        "\n",
        "# Support Vector Machine with a linear kernel and probability=True\n",
        "svc_model = SVC(kernel='linear', probability=True)\n",
        "svc_model.fit(X_train, y_train)\n",
        "\n",
        "# K-Nearest Neighbors\n",
        "knn_model = KNeighborsClassifier()\n",
        "knn_model.fit(X_train, y_train)\n",
        "\n",
        "# Random Forest Classifier\n",
        "rf_model = RandomForestClassifier()\n",
        "rf_model.fit(X_train, y_train)\n",
        "\n",
        "# Evaluate the models using metrics\n",
        "models = [log_reg_model, svc_model, knn_model, rf_model]\n",
        "\n",
        "for model in models:\n",
        "    model_name = type(model).__name__\n",
        "    print(f\"\\nResults for {model_name}:\\n\")\n",
        "\n",
        "    # Cross-validation score\n",
        "    cv_score = cross_val_score(model, X_train, y_train, cv=5)\n",
        "    print(f\"Cross-Validation Score: {np.mean(cv_score)}\")\n",
        "\n",
        "    # Confusion Matrix\n",
        "    y_pred = model.predict(X_test)\n",
        "    conf_matrix = confusion_matrix(y_test, y_pred)\n",
        "    print(\"\\nConfusion Matrix:\")\n",
        "    print(conf_matrix)\n",
        "\n",
        "    # Classification Report\n",
        "    class_report = classification_report(y_test, y_pred)\n",
        "    print(\"\\nClassification Report:\")\n",
        "    print(class_report)\n",
        "\n",
        "    # Precision, Recall, F1-Score\n",
        "    precision = precision_score(y_test, y_pred)\n",
        "    recall = recall_score(y_test, y_pred)\n",
        "    f1 = f1_score(y_test, y_pred)\n",
        "    print(f\"\\nPrecision: {precision}\\nRecall: {recall}\\nF1-Score: {f1}\")\n",
        "\n",
        "    # ROC Curve\n",
        "    y_pred_prob = model.predict_proba(X_test)[:, 1]\n",
        "    fpr, tpr, thresholds = roc_curve(y_test, y_pred_prob)\n",
        "    roc_auc = auc(fpr, tpr)\n",
        "\n",
        "    plt.figure(figsize=(8, 8))\n",
        "    plt.plot(fpr, tpr, color='darkorange', lw=2, label=f'ROC curve (area = {roc_auc:.2f})')\n",
        "    plt.plot([0, 1], [0, 1], color='navy', lw=2, linestyle='--')\n",
        "    plt.xlabel('False Positive Rate')\n",
        "    plt.ylabel('True Positive Rate')\n",
        "    plt.title(f'ROC Curve - {model_name}')\n",
        "    plt.legend(loc='lower right')\n",
        "    plt.show()\n"
      ]
    },
    {
      "cell_type": "markdown",
      "metadata": {
        "id": "KRpsxtwxS05P"
      },
      "source": [
        "# 11. References"
      ]
    },
    {
      "cell_type": "markdown",
      "metadata": {
        "id": "0io3HT1bSyba"
      },
      "source": [
        "[1] https://scikit-learn.org/stable/install.html\n",
        "\n",
        "\n",
        "\n",
        "[2] https://scikit-learn.org/stable/\n",
        "\n",
        "\n",
        "\n",
        "[3] https://scikit-learn.org/stable/datasets/toy_dataset.html\n",
        "\n",
        "\n",
        "\n",
        "[4] https://realpython.com/tutorials/databases/\n",
        "\n",
        "\n",
        "\n",
        "[5] https://github.com/asavinov/machine-learning-and-data-processing\n",
        "\n",
        "\n",
        "\n",
        "[6] http://totoharyanto.staff.ipb.ac.id/files/2012/10/Building-Machine-Learning-Systems-with-Python-Richert-Coelho.pdf\n",
        "\n",
        "\n",
        "\n",
        "[7] https://scikit-learn.org/stable/auto_examples/classification/plot_digits_classification.html#sphx-glr-auto-examples-classification-plot-digits-classification-py\n",
        "\n",
        "\n",
        "\n",
        "\n",
        "[8] https://scikit-learn.org/stable/modules/neighbors.html\n",
        "\n",
        "\n",
        "\n",
        "[9] https://scikit-learn.org/stable/modules/grid_search.html\n",
        "\n",
        "\n",
        "\n",
        "\n",
        "[10] https://scikit-learn.org/stable/modules/model_evaluation.html\n"
      ]
    }
  ],
  "metadata": {
    "colab": {
      "provenance": []
    },
    "kernelspec": {
      "display_name": "Python 3",
      "name": "python3"
    },
    "language_info": {
      "name": "python"
    }
  },
  "nbformat": 4,
  "nbformat_minor": 0
}