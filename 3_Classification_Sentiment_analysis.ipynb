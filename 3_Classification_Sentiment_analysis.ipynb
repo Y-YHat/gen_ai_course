{
  "cells": [
    {
      "cell_type": "markdown",
      "metadata": {
        "id": "view-in-github",
        "colab_type": "text"
      },
      "source": [
        "<a href=\"https://colab.research.google.com/github/Y-YHat/gen_ai_course/blob/main/3_Classification_Sentiment_analysis.ipynb\" target=\"_parent\"><img src=\"https://colab.research.google.com/assets/colab-badge.svg\" alt=\"Open In Colab\"/></a>"
      ]
    },
    {
      "cell_type": "markdown",
      "source": [
        "# Problem statement: Classification model to analyze Amazon product reviews\n",
        "\n",
        "The objective is to create a classification model that will analyze Amazon product reviews to classify sentiments as positive or negative. Here's a breakdown of the steps involved in this workflow:\n",
        "\n",
        "- Step 1: Load the Dataset\n",
        "- Step 2: Data Pre-processing\n",
        "- Step 3: Feature Selection\n",
        "- Step 4: Model Selection\n",
        "- Step 5: Training the Model\n",
        "- Step 6: Model Evaluation\n",
        "- Step 7: Hyperparameter Tuning\n",
        "- Step 8: Cross Validation\n",
        "\n",
        "The notebook contains 7 exercises in total:\n",
        "\n",
        "* [Exercise 1](#ex_1)\n",
        "* [Exercise 2](#ex_2)\n",
        "* [Exercise 3](#ex_3)\n",
        "* [Exercise 4](#ex_4)\n",
        "* [Exercise 5](#ex_5)\n",
        "* [Exercise 6](#ex_6)\n",
        "* [Exercise 7](#ex_7)"
      ],
      "metadata": {
        "id": "IRGQ0MBqOnEL"
      }
    },
    {
      "cell_type": "markdown",
      "metadata": {
        "id": "uH6KQFuh1XHu"
      },
      "source": [
        "## Step 1: Load the dataset\n",
        "First, let's load the dataset from Google Drive. You need to upload the dataset and then read the CSV file into a pandas DataFrame."
      ]
    },
    {
      "cell_type": "code",
      "source": [
        "from google.colab import drive\n",
        "drive.mount('/content/drive')\n"
      ],
      "metadata": {
        "id": "sh5IQrNGR_hO",
        "outputId": "b2591a0a-6af9-48d3-8748-822dc6be48f7",
        "colab": {
          "base_uri": "https://localhost:8080/"
        }
      },
      "execution_count": 1,
      "outputs": [
        {
          "output_type": "stream",
          "name": "stdout",
          "text": [
            "Mounted at /content/drive\n"
          ]
        }
      ]
    },
    {
      "cell_type": "code",
      "execution_count": 5,
      "metadata": {
        "id": "hfYy3kh11GCA",
        "colab": {
          "base_uri": "https://localhost:8080/",
          "height": 487
        },
        "outputId": "90db333d-5ff3-40eb-af1b-7d7f4ae65510"
      },
      "outputs": [
        {
          "output_type": "execute_result",
          "data": {
            "text/plain": [
              "  market_place customer_id         review_id    product_id product_parent  \\\n",
              "0         \"US\"  \"42521656\"  \"R26MV8D0KG6QI6\"  \"B000SAQCWC\"    \"159713740\"   \n",
              "1         \"US\"  \"12049833\"  \"R1OF8GP57AQ1A0\"  \"B00509LVIQ\"    \"138680402\"   \n",
              "2         \"US\"    \"107642\"  \"R3VDC1QB6MC4ZZ\"  \"B00KHXESLC\"    \"252021703\"   \n",
              "3         \"US\"   \"6042304\"  \"R12FA3DCF8F9ER\"  \"B000F8JIIC\"    \"752728342\"   \n",
              "4         \"US\"  \"18123821\"   \"RTWHVNV6X4CNJ\"  \"B004ZWR9RQ\"    \"552138758\"   \n",
              "\n",
              "                                       product_title product_category  \\\n",
              "0  \"The Cravings Place Chocolate Chunk Cookie Mix...        \"Grocery\"   \n",
              "1          \"Mauna Loa Macadamias, 11 Ounce Packages\"        \"Grocery\"   \n",
              "2  \"Organic Matcha Green Tea Powder - 100% Pure M...        \"Grocery\"   \n",
              "3  \"15oz Raspberry Lyons Designer Dessert Syrup S...        \"Grocery\"   \n",
              "4  \"Stride Spark Kinetic Fruit Sugar Free Gum, 14...        \"Grocery\"   \n",
              "\n",
              "   star_rating  helpful_votes  total_votes     vine verified_purchase  \\\n",
              "0            1              0            0  0 \\t(N)           1 \\t(Y)   \n",
              "1            1              0            0  0 \\t(N)           1 \\t(Y)   \n",
              "2            1              0            0  0 \\t(N)           0 \\t(N)   \n",
              "3            1              0            0  0 \\t(N)           1 \\t(Y)   \n",
              "4            1              0            0  0 \\t(N)           1 \\t(Y)   \n",
              "\n",
              "                        review_headline  \\\n",
              "0  \"Using these for years - love them.\"   \n",
              "1                           \"Wonderful\"   \n",
              "2                          \"Five Stars\"   \n",
              "3                          \"Five Stars\"   \n",
              "4                          \"Five Stars\"   \n",
              "\n",
              "                                         review_body review_date sentiments  \n",
              "0  \"As a family allergic to wheat, dairy, eggs, n...  2015-08-31   positive  \n",
              "1  \"My favorite nut. Creamy, crunchy, salty, and ...  2015-08-31   positive  \n",
              "2  \"This green tea tastes so good! My girlfriend ...  2015-08-31   positive  \n",
              "3  \"I love Melissa's brand but this is a great se...  2015-08-31   positive  \n",
              "4                                             \"good\"  2015-08-31   positive  "
            ],
            "text/html": [
              "\n",
              "  <div id=\"df-7cf73bd3-3bee-42d7-8eb7-d895d3514b45\" class=\"colab-df-container\">\n",
              "    <div>\n",
              "<style scoped>\n",
              "    .dataframe tbody tr th:only-of-type {\n",
              "        vertical-align: middle;\n",
              "    }\n",
              "\n",
              "    .dataframe tbody tr th {\n",
              "        vertical-align: top;\n",
              "    }\n",
              "\n",
              "    .dataframe thead th {\n",
              "        text-align: right;\n",
              "    }\n",
              "</style>\n",
              "<table border=\"1\" class=\"dataframe\">\n",
              "  <thead>\n",
              "    <tr style=\"text-align: right;\">\n",
              "      <th></th>\n",
              "      <th>market_place</th>\n",
              "      <th>customer_id</th>\n",
              "      <th>review_id</th>\n",
              "      <th>product_id</th>\n",
              "      <th>product_parent</th>\n",
              "      <th>product_title</th>\n",
              "      <th>product_category</th>\n",
              "      <th>star_rating</th>\n",
              "      <th>helpful_votes</th>\n",
              "      <th>total_votes</th>\n",
              "      <th>vine</th>\n",
              "      <th>verified_purchase</th>\n",
              "      <th>review_headline</th>\n",
              "      <th>review_body</th>\n",
              "      <th>review_date</th>\n",
              "      <th>sentiments</th>\n",
              "    </tr>\n",
              "  </thead>\n",
              "  <tbody>\n",
              "    <tr>\n",
              "      <th>0</th>\n",
              "      <td>\"US\"</td>\n",
              "      <td>\"42521656\"</td>\n",
              "      <td>\"R26MV8D0KG6QI6\"</td>\n",
              "      <td>\"B000SAQCWC\"</td>\n",
              "      <td>\"159713740\"</td>\n",
              "      <td>\"The Cravings Place Chocolate Chunk Cookie Mix...</td>\n",
              "      <td>\"Grocery\"</td>\n",
              "      <td>1</td>\n",
              "      <td>0</td>\n",
              "      <td>0</td>\n",
              "      <td>0 \\t(N)</td>\n",
              "      <td>1 \\t(Y)</td>\n",
              "      <td>\"Using these for years - love them.\"</td>\n",
              "      <td>\"As a family allergic to wheat, dairy, eggs, n...</td>\n",
              "      <td>2015-08-31</td>\n",
              "      <td>positive</td>\n",
              "    </tr>\n",
              "    <tr>\n",
              "      <th>1</th>\n",
              "      <td>\"US\"</td>\n",
              "      <td>\"12049833\"</td>\n",
              "      <td>\"R1OF8GP57AQ1A0\"</td>\n",
              "      <td>\"B00509LVIQ\"</td>\n",
              "      <td>\"138680402\"</td>\n",
              "      <td>\"Mauna Loa Macadamias, 11 Ounce Packages\"</td>\n",
              "      <td>\"Grocery\"</td>\n",
              "      <td>1</td>\n",
              "      <td>0</td>\n",
              "      <td>0</td>\n",
              "      <td>0 \\t(N)</td>\n",
              "      <td>1 \\t(Y)</td>\n",
              "      <td>\"Wonderful\"</td>\n",
              "      <td>\"My favorite nut. Creamy, crunchy, salty, and ...</td>\n",
              "      <td>2015-08-31</td>\n",
              "      <td>positive</td>\n",
              "    </tr>\n",
              "    <tr>\n",
              "      <th>2</th>\n",
              "      <td>\"US\"</td>\n",
              "      <td>\"107642\"</td>\n",
              "      <td>\"R3VDC1QB6MC4ZZ\"</td>\n",
              "      <td>\"B00KHXESLC\"</td>\n",
              "      <td>\"252021703\"</td>\n",
              "      <td>\"Organic Matcha Green Tea Powder - 100% Pure M...</td>\n",
              "      <td>\"Grocery\"</td>\n",
              "      <td>1</td>\n",
              "      <td>0</td>\n",
              "      <td>0</td>\n",
              "      <td>0 \\t(N)</td>\n",
              "      <td>0 \\t(N)</td>\n",
              "      <td>\"Five Stars\"</td>\n",
              "      <td>\"This green tea tastes so good! My girlfriend ...</td>\n",
              "      <td>2015-08-31</td>\n",
              "      <td>positive</td>\n",
              "    </tr>\n",
              "    <tr>\n",
              "      <th>3</th>\n",
              "      <td>\"US\"</td>\n",
              "      <td>\"6042304\"</td>\n",
              "      <td>\"R12FA3DCF8F9ER\"</td>\n",
              "      <td>\"B000F8JIIC\"</td>\n",
              "      <td>\"752728342\"</td>\n",
              "      <td>\"15oz Raspberry Lyons Designer Dessert Syrup S...</td>\n",
              "      <td>\"Grocery\"</td>\n",
              "      <td>1</td>\n",
              "      <td>0</td>\n",
              "      <td>0</td>\n",
              "      <td>0 \\t(N)</td>\n",
              "      <td>1 \\t(Y)</td>\n",
              "      <td>\"Five Stars\"</td>\n",
              "      <td>\"I love Melissa's brand but this is a great se...</td>\n",
              "      <td>2015-08-31</td>\n",
              "      <td>positive</td>\n",
              "    </tr>\n",
              "    <tr>\n",
              "      <th>4</th>\n",
              "      <td>\"US\"</td>\n",
              "      <td>\"18123821\"</td>\n",
              "      <td>\"RTWHVNV6X4CNJ\"</td>\n",
              "      <td>\"B004ZWR9RQ\"</td>\n",
              "      <td>\"552138758\"</td>\n",
              "      <td>\"Stride Spark Kinetic Fruit Sugar Free Gum, 14...</td>\n",
              "      <td>\"Grocery\"</td>\n",
              "      <td>1</td>\n",
              "      <td>0</td>\n",
              "      <td>0</td>\n",
              "      <td>0 \\t(N)</td>\n",
              "      <td>1 \\t(Y)</td>\n",
              "      <td>\"Five Stars\"</td>\n",
              "      <td>\"good\"</td>\n",
              "      <td>2015-08-31</td>\n",
              "      <td>positive</td>\n",
              "    </tr>\n",
              "  </tbody>\n",
              "</table>\n",
              "</div>\n",
              "    <div class=\"colab-df-buttons\">\n",
              "\n",
              "  <div class=\"colab-df-container\">\n",
              "    <button class=\"colab-df-convert\" onclick=\"convertToInteractive('df-7cf73bd3-3bee-42d7-8eb7-d895d3514b45')\"\n",
              "            title=\"Convert this dataframe to an interactive table.\"\n",
              "            style=\"display:none;\">\n",
              "\n",
              "  <svg xmlns=\"http://www.w3.org/2000/svg\" height=\"24px\" viewBox=\"0 -960 960 960\">\n",
              "    <path d=\"M120-120v-720h720v720H120Zm60-500h600v-160H180v160Zm220 220h160v-160H400v160Zm0 220h160v-160H400v160ZM180-400h160v-160H180v160Zm440 0h160v-160H620v160ZM180-180h160v-160H180v160Zm440 0h160v-160H620v160Z\"/>\n",
              "  </svg>\n",
              "    </button>\n",
              "\n",
              "  <style>\n",
              "    .colab-df-container {\n",
              "      display:flex;\n",
              "      gap: 12px;\n",
              "    }\n",
              "\n",
              "    .colab-df-convert {\n",
              "      background-color: #E8F0FE;\n",
              "      border: none;\n",
              "      border-radius: 50%;\n",
              "      cursor: pointer;\n",
              "      display: none;\n",
              "      fill: #1967D2;\n",
              "      height: 32px;\n",
              "      padding: 0 0 0 0;\n",
              "      width: 32px;\n",
              "    }\n",
              "\n",
              "    .colab-df-convert:hover {\n",
              "      background-color: #E2EBFA;\n",
              "      box-shadow: 0px 1px 2px rgba(60, 64, 67, 0.3), 0px 1px 3px 1px rgba(60, 64, 67, 0.15);\n",
              "      fill: #174EA6;\n",
              "    }\n",
              "\n",
              "    .colab-df-buttons div {\n",
              "      margin-bottom: 4px;\n",
              "    }\n",
              "\n",
              "    [theme=dark] .colab-df-convert {\n",
              "      background-color: #3B4455;\n",
              "      fill: #D2E3FC;\n",
              "    }\n",
              "\n",
              "    [theme=dark] .colab-df-convert:hover {\n",
              "      background-color: #434B5C;\n",
              "      box-shadow: 0px 1px 3px 1px rgba(0, 0, 0, 0.15);\n",
              "      filter: drop-shadow(0px 1px 2px rgba(0, 0, 0, 0.3));\n",
              "      fill: #FFFFFF;\n",
              "    }\n",
              "  </style>\n",
              "\n",
              "    <script>\n",
              "      const buttonEl =\n",
              "        document.querySelector('#df-7cf73bd3-3bee-42d7-8eb7-d895d3514b45 button.colab-df-convert');\n",
              "      buttonEl.style.display =\n",
              "        google.colab.kernel.accessAllowed ? 'block' : 'none';\n",
              "\n",
              "      async function convertToInteractive(key) {\n",
              "        const element = document.querySelector('#df-7cf73bd3-3bee-42d7-8eb7-d895d3514b45');\n",
              "        const dataTable =\n",
              "          await google.colab.kernel.invokeFunction('convertToInteractive',\n",
              "                                                    [key], {});\n",
              "        if (!dataTable) return;\n",
              "\n",
              "        const docLinkHtml = 'Like what you see? Visit the ' +\n",
              "          '<a target=\"_blank\" href=https://colab.research.google.com/notebooks/data_table.ipynb>data table notebook</a>'\n",
              "          + ' to learn more about interactive tables.';\n",
              "        element.innerHTML = '';\n",
              "        dataTable['output_type'] = 'display_data';\n",
              "        await google.colab.output.renderOutput(dataTable, element);\n",
              "        const docLink = document.createElement('div');\n",
              "        docLink.innerHTML = docLinkHtml;\n",
              "        element.appendChild(docLink);\n",
              "      }\n",
              "    </script>\n",
              "  </div>\n",
              "\n",
              "\n",
              "<div id=\"df-fe29a020-9b2f-47e2-bb6f-d9979d8a9170\">\n",
              "  <button class=\"colab-df-quickchart\" onclick=\"quickchart('df-fe29a020-9b2f-47e2-bb6f-d9979d8a9170')\"\n",
              "            title=\"Suggest charts\"\n",
              "            style=\"display:none;\">\n",
              "\n",
              "<svg xmlns=\"http://www.w3.org/2000/svg\" height=\"24px\"viewBox=\"0 0 24 24\"\n",
              "     width=\"24px\">\n",
              "    <g>\n",
              "        <path d=\"M19 3H5c-1.1 0-2 .9-2 2v14c0 1.1.9 2 2 2h14c1.1 0 2-.9 2-2V5c0-1.1-.9-2-2-2zM9 17H7v-7h2v7zm4 0h-2V7h2v10zm4 0h-2v-4h2v4z\"/>\n",
              "    </g>\n",
              "</svg>\n",
              "  </button>\n",
              "\n",
              "<style>\n",
              "  .colab-df-quickchart {\n",
              "      --bg-color: #E8F0FE;\n",
              "      --fill-color: #1967D2;\n",
              "      --hover-bg-color: #E2EBFA;\n",
              "      --hover-fill-color: #174EA6;\n",
              "      --disabled-fill-color: #AAA;\n",
              "      --disabled-bg-color: #DDD;\n",
              "  }\n",
              "\n",
              "  [theme=dark] .colab-df-quickchart {\n",
              "      --bg-color: #3B4455;\n",
              "      --fill-color: #D2E3FC;\n",
              "      --hover-bg-color: #434B5C;\n",
              "      --hover-fill-color: #FFFFFF;\n",
              "      --disabled-bg-color: #3B4455;\n",
              "      --disabled-fill-color: #666;\n",
              "  }\n",
              "\n",
              "  .colab-df-quickchart {\n",
              "    background-color: var(--bg-color);\n",
              "    border: none;\n",
              "    border-radius: 50%;\n",
              "    cursor: pointer;\n",
              "    display: none;\n",
              "    fill: var(--fill-color);\n",
              "    height: 32px;\n",
              "    padding: 0;\n",
              "    width: 32px;\n",
              "  }\n",
              "\n",
              "  .colab-df-quickchart:hover {\n",
              "    background-color: var(--hover-bg-color);\n",
              "    box-shadow: 0 1px 2px rgba(60, 64, 67, 0.3), 0 1px 3px 1px rgba(60, 64, 67, 0.15);\n",
              "    fill: var(--button-hover-fill-color);\n",
              "  }\n",
              "\n",
              "  .colab-df-quickchart-complete:disabled,\n",
              "  .colab-df-quickchart-complete:disabled:hover {\n",
              "    background-color: var(--disabled-bg-color);\n",
              "    fill: var(--disabled-fill-color);\n",
              "    box-shadow: none;\n",
              "  }\n",
              "\n",
              "  .colab-df-spinner {\n",
              "    border: 2px solid var(--fill-color);\n",
              "    border-color: transparent;\n",
              "    border-bottom-color: var(--fill-color);\n",
              "    animation:\n",
              "      spin 1s steps(1) infinite;\n",
              "  }\n",
              "\n",
              "  @keyframes spin {\n",
              "    0% {\n",
              "      border-color: transparent;\n",
              "      border-bottom-color: var(--fill-color);\n",
              "      border-left-color: var(--fill-color);\n",
              "    }\n",
              "    20% {\n",
              "      border-color: transparent;\n",
              "      border-left-color: var(--fill-color);\n",
              "      border-top-color: var(--fill-color);\n",
              "    }\n",
              "    30% {\n",
              "      border-color: transparent;\n",
              "      border-left-color: var(--fill-color);\n",
              "      border-top-color: var(--fill-color);\n",
              "      border-right-color: var(--fill-color);\n",
              "    }\n",
              "    40% {\n",
              "      border-color: transparent;\n",
              "      border-right-color: var(--fill-color);\n",
              "      border-top-color: var(--fill-color);\n",
              "    }\n",
              "    60% {\n",
              "      border-color: transparent;\n",
              "      border-right-color: var(--fill-color);\n",
              "    }\n",
              "    80% {\n",
              "      border-color: transparent;\n",
              "      border-right-color: var(--fill-color);\n",
              "      border-bottom-color: var(--fill-color);\n",
              "    }\n",
              "    90% {\n",
              "      border-color: transparent;\n",
              "      border-bottom-color: var(--fill-color);\n",
              "    }\n",
              "  }\n",
              "</style>\n",
              "\n",
              "  <script>\n",
              "    async function quickchart(key) {\n",
              "      const quickchartButtonEl =\n",
              "        document.querySelector('#' + key + ' button');\n",
              "      quickchartButtonEl.disabled = true;  // To prevent multiple clicks.\n",
              "      quickchartButtonEl.classList.add('colab-df-spinner');\n",
              "      try {\n",
              "        const charts = await google.colab.kernel.invokeFunction(\n",
              "            'suggestCharts', [key], {});\n",
              "      } catch (error) {\n",
              "        console.error('Error during call to suggestCharts:', error);\n",
              "      }\n",
              "      quickchartButtonEl.classList.remove('colab-df-spinner');\n",
              "      quickchartButtonEl.classList.add('colab-df-quickchart-complete');\n",
              "    }\n",
              "    (() => {\n",
              "      let quickchartButtonEl =\n",
              "        document.querySelector('#df-fe29a020-9b2f-47e2-bb6f-d9979d8a9170 button');\n",
              "      quickchartButtonEl.style.display =\n",
              "        google.colab.kernel.accessAllowed ? 'block' : 'none';\n",
              "    })();\n",
              "  </script>\n",
              "</div>\n",
              "    </div>\n",
              "  </div>\n"
            ],
            "application/vnd.google.colaboratory.intrinsic+json": {
              "type": "dataframe",
              "variable_name": "df",
              "repr_error": "'str' object has no attribute 'empty'"
            }
          },
          "metadata": {},
          "execution_count": 5
        }
      ],
      "source": [
        "# Import necessary libraries\n",
        "import pandas as pd\n",
        "\n",
        "# Load the dataset into a DataFrame\n",
        "df = pd.read_csv(\"/content/drive/My Drive/data/amazon-product-review-data.csv\")\n",
        "\n",
        "# Display the first few rows to check if the data is loaded correctly\n",
        "df.head()\n"
      ]
    },
    {
      "cell_type": "markdown",
      "metadata": {
        "id": "p8E6a6h_2LIC"
      },
      "source": [
        "## Step 2: Data Pre-processing\n",
        "\n",
        "\n",
        "\n"
      ]
    },
    {
      "cell_type": "code",
      "execution_count": null,
      "metadata": {
        "id": "t_WMCjp72Z3g",
        "colab": {
          "base_uri": "https://localhost:8080/"
        },
        "outputId": "899bad78-d77d-4097-d7cb-d628c30bbdaa"
      },
      "outputs": [
        {
          "output_type": "stream",
          "name": "stdout",
          "text": [
            "80/20 Split\n",
            "X_train shape: (400, 3466)\n",
            "X_test shape: (100, 3466)\n",
            "y_train shape: (400,)\n",
            "y_test shape: (100,)\n"
          ]
        }
      ],
      "source": [
        "# Import necessary libraries for data pre-processing\n",
        "import numpy as np\n",
        "from sklearn.model_selection import train_test_split\n",
        "from sklearn.feature_extraction.text import TfidfVectorizer\n",
        "from sklearn.preprocessing import LabelEncoder\n",
        "\n",
        "# Remove any rows with missing values\n",
        "df.dropna(inplace=True)\n",
        "\n",
        "# Encode the 'sentiments' column (positive/negative) to numerical values (0/1)\n",
        "le = LabelEncoder()\n",
        "df['sentiments'] = le.fit_transform(df['sentiments'])\n",
        "\n",
        "# Text data preprocessing using TF-IDF vectorization\n",
        "tfidf_vectorizer = TfidfVectorizer(max_features=5000, stop_words='english')\n",
        "X = tfidf_vectorizer.fit_transform(df['review_body']).toarray()\n",
        "y = df['sentiments'].values\n",
        "\n",
        "# Split the data into training and testing sets (80% train, 20% test)\n",
        "X_train, X_test, y_train, y_test = train_test_split(X, y, test_size=0.2, random_state=42)\n",
        "\n",
        "print('80/20 Split')\n",
        "# Display the shapes of the resulting data\n",
        "print(\"X_train shape:\", X_train.shape)\n",
        "print(\"X_test shape:\", X_test.shape)\n",
        "print(\"y_train shape:\", y_train.shape)\n",
        "print(\"y_test shape:\", y_test.shape)\n"
      ]
    },
    {
      "cell_type": "code",
      "source": [
        "X_train\n"
      ],
      "metadata": {
        "colab": {
          "base_uri": "https://localhost:8080/"
        },
        "id": "NTDKN7mClkG3",
        "outputId": "2d781977-31cb-48ad-a0e3-b7c3dda92f27"
      },
      "execution_count": null,
      "outputs": [
        {
          "output_type": "execute_result",
          "data": {
            "text/plain": [
              "array([[0., 0., 0., ..., 0., 0., 0.],\n",
              "       [0., 0., 0., ..., 0., 0., 0.],\n",
              "       [0., 0., 0., ..., 0., 0., 0.],\n",
              "       ...,\n",
              "       [0., 0., 0., ..., 0., 0., 0.],\n",
              "       [0., 0., 0., ..., 0., 0., 0.],\n",
              "       [0., 0., 0., ..., 0., 0., 0.]])"
            ]
          },
          "metadata": {},
          "execution_count": 15
        }
      ]
    },
    {
      "cell_type": "markdown",
      "source": [
        "<a name=\"ex_1\"></a>\n",
        "## Exercise 1\n",
        "\n",
        "- Use the train_test_split function and change the test_size to 0.3\n",
        "\n",
        "This way the training set (X and y) should be 70% and the testing set(X and y) should be 30%"
      ],
      "metadata": {
        "id": "eSAPAkPnTXrR"
      }
    },
    {
      "cell_type": "code",
      "source": [
        "#Write your code here\n",
        "print('70/30 Split')\n",
        "X_train, X_test, y_train, y_test = train_test_split(X, y, test_size=0.3, random_state=42)\n",
        "print(\"X_train shape:\", X_train.shape)\n",
        "print(\"X_test shape:\", X_test.shape)\n",
        "print(\"y_train shape:\", y_train.shape)\n",
        "print(\"y_test shape:\", y_test.shape)\n"
      ],
      "metadata": {
        "id": "-UWf6agSRon9",
        "colab": {
          "base_uri": "https://localhost:8080/"
        },
        "outputId": "43e96da5-1aa9-4c45-d792-0652be057c92"
      },
      "execution_count": null,
      "outputs": [
        {
          "output_type": "stream",
          "name": "stdout",
          "text": [
            "70/30 Split\n",
            "X_train shape: (350, 3466)\n",
            "X_test shape: (150, 3466)\n",
            "y_train shape: (350,)\n",
            "y_test shape: (150,)\n"
          ]
        }
      ]
    },
    {
      "cell_type": "markdown",
      "metadata": {
        "id": "I9q_p7vr27mV"
      },
      "source": [
        "## Step 3: Feature Selection\n",
        "\n",
        "In this step, we'll perform feature selection to reduce the dimensionality of the TF-IDF vectorized data and potentially improve the model's performance. We'll use feature selection techniques like chi-squared (chi2) or mutual information to select the most important features."
      ]
    },
    {
      "cell_type": "code",
      "execution_count": null,
      "metadata": {
        "id": "8usH1IZP2-HS",
        "colab": {
          "base_uri": "https://localhost:8080/"
        },
        "outputId": "f9367d11-c4b6-427b-bafe-f638f46404eb"
      },
      "outputs": [
        {
          "output_type": "stream",
          "name": "stdout",
          "text": [
            "X_train_selected shape: (350, 1000)\n",
            "X_test_selected shape: (150, 1000)\n"
          ]
        }
      ],
      "source": [
        "from sklearn.feature_selection import SelectKBest, chi2\n",
        "\n",
        "# Apply feature selection using chi-squared (chi2) test\n",
        "# You can adjust the number of features (k) as needed\n",
        "k = 1000\n",
        "selector = SelectKBest(chi2, k=k)\n",
        "X_train_selected = selector.fit_transform(X_train, y_train)\n",
        "X_test_selected = selector.transform(X_test)\n",
        "\n",
        "# Display the shapes of the selected feature sets\n",
        "print(\"X_train_selected shape:\", X_train_selected.shape)\n",
        "print(\"X_test_selected shape:\", X_test_selected.shape)"
      ]
    },
    {
      "cell_type": "markdown",
      "source": [
        "<a name=\"ex_2\"></a>\n",
        "## Exercise 2\n",
        "\n",
        "- Compare the X_train_selected shape and X_test_selected shape with the new test_size=0.3"
      ],
      "metadata": {
        "id": "SU3KOde8Te0k"
      }
    },
    {
      "cell_type": "code",
      "source": [
        "#Write your code here\n",
        "print(\"X_train_selected shape:\", X_train_selected.shape)\n",
        "\n",
        "print(\"X_train shape:\", X_train.shape)\n"
      ],
      "metadata": {
        "id": "tcoq_fCqDpaE",
        "colab": {
          "base_uri": "https://localhost:8080/"
        },
        "outputId": "4c4e19b0-0c2c-4a8a-b734-dd9f67b73258"
      },
      "execution_count": null,
      "outputs": [
        {
          "output_type": "stream",
          "name": "stdout",
          "text": [
            "X_train_selected shape: (350, 1000)\n",
            "X_train shape: (350, 3466)\n"
          ]
        }
      ]
    },
    {
      "cell_type": "markdown",
      "metadata": {
        "id": "slW7wA0L3Q3R"
      },
      "source": [
        "We have successfully performed feature selection, reducing the dimensionality of the data while retaining the most important features.\n",
        "\n",
        "\n",
        "## Step 4: Model Selection\n",
        "For sentiment analysis, you can use various machine learning algorithms like Logistic Regression, Naive Bayes, Support Vector Machines, or even deep learning models like LSTM or BERT. Since you're a beginner, let's start with a simple model like Logistic Regression."
      ]
    },
    {
      "cell_type": "code",
      "execution_count": null,
      "metadata": {
        "id": "Olqw9Aah3Wx6"
      },
      "outputs": [],
      "source": [
        "from sklearn.linear_model import LogisticRegression\n",
        "\n",
        "# Initialize the Logistic Regression model\n",
        "model = LogisticRegression(random_state=42)\n"
      ]
    },
    {
      "cell_type": "markdown",
      "source": [
        "<a name=\"ex_3\"></a>\n",
        "## Exercise 3\n",
        "\n",
        "What does the random_state (parameter of the LogisticRegression) represent?\n",
        "\n",
        "**Answer**: Write your answer here\n",
        "\n",
        "The `random_state` parameter in the `LogisticRegression` model, as well as in many other machine learning models in scikit-learn, is used to set a seed for the random number generator. This ensures that the random initialization of the algorithm's parameters is reproducible.\n",
        "\n",
        "When you set a `random_state` value, the algorithm will initialize its internal parameters based on that seed. This is particularly useful for reproducibility – if you use the same seed, you should get the same results every time you run the model.\n",
        "\n",
        "For example, if you have the following code:\n",
        "\n",
        "```python\n",
        "from sklearn.linear_model import LogisticRegression\n",
        "\n",
        "model = LogisticRegression(random_state=42)\n",
        "```\n",
        "\n",
        "Setting `random_state=42` means that every time you train this logistic regression model, it will be initialized in the same way, provided the other conditions (data, preprocessing, etc.) remain constant. This is important when you want to compare resulults or share your work  others, ensuring that they obtain the same outcomes.\n",
        "\n",
        "It's worth noting that the specific impact of `random_state` depends on the algorithm and the library being used. In the case of scikit-learn's logistic regression, it affects the random initialization of the optimization algorithm used to find the optimal parameters for the model."
      ],
      "metadata": {
        "id": "-eaR-mvhTpwp"
      }
    },
    {
      "cell_type": "markdown",
      "metadata": {
        "id": "7KTqnTiB3leR"
      },
      "source": [
        "## Step 5: Training the Model\n",
        "\n",
        "Now that we have initialized our Logistic Regression model, it's time to train it on the selected features from the training dataset.\n",
        "\n"
      ]
    },
    {
      "cell_type": "code",
      "execution_count": null,
      "metadata": {
        "id": "yFqbF79I3sFJ",
        "colab": {
          "base_uri": "https://localhost:8080/",
          "height": 74
        },
        "outputId": "960d7d7c-ec53-4b1d-dfac-189e467ff222"
      },
      "outputs": [
        {
          "output_type": "execute_result",
          "data": {
            "text/plain": [
              "LogisticRegression(random_state=42)"
            ],
            "text/html": [
              "<style>#sk-container-id-1 {color: black;background-color: white;}#sk-container-id-1 pre{padding: 0;}#sk-container-id-1 div.sk-toggleable {background-color: white;}#sk-container-id-1 label.sk-toggleable__label {cursor: pointer;display: block;width: 100%;margin-bottom: 0;padding: 0.3em;box-sizing: border-box;text-align: center;}#sk-container-id-1 label.sk-toggleable__label-arrow:before {content: \"▸\";float: left;margin-right: 0.25em;color: #696969;}#sk-container-id-1 label.sk-toggleable__label-arrow:hover:before {color: black;}#sk-container-id-1 div.sk-estimator:hover label.sk-toggleable__label-arrow:before {color: black;}#sk-container-id-1 div.sk-toggleable__content {max-height: 0;max-width: 0;overflow: hidden;text-align: left;background-color: #f0f8ff;}#sk-container-id-1 div.sk-toggleable__content pre {margin: 0.2em;color: black;border-radius: 0.25em;background-color: #f0f8ff;}#sk-container-id-1 input.sk-toggleable__control:checked~div.sk-toggleable__content {max-height: 200px;max-width: 100%;overflow: auto;}#sk-container-id-1 input.sk-toggleable__control:checked~label.sk-toggleable__label-arrow:before {content: \"▾\";}#sk-container-id-1 div.sk-estimator input.sk-toggleable__control:checked~label.sk-toggleable__label {background-color: #d4ebff;}#sk-container-id-1 div.sk-label input.sk-toggleable__control:checked~label.sk-toggleable__label {background-color: #d4ebff;}#sk-container-id-1 input.sk-hidden--visually {border: 0;clip: rect(1px 1px 1px 1px);clip: rect(1px, 1px, 1px, 1px);height: 1px;margin: -1px;overflow: hidden;padding: 0;position: absolute;width: 1px;}#sk-container-id-1 div.sk-estimator {font-family: monospace;background-color: #f0f8ff;border: 1px dotted black;border-radius: 0.25em;box-sizing: border-box;margin-bottom: 0.5em;}#sk-container-id-1 div.sk-estimator:hover {background-color: #d4ebff;}#sk-container-id-1 div.sk-parallel-item::after {content: \"\";width: 100%;border-bottom: 1px solid gray;flex-grow: 1;}#sk-container-id-1 div.sk-label:hover label.sk-toggleable__label {background-color: #d4ebff;}#sk-container-id-1 div.sk-serial::before {content: \"\";position: absolute;border-left: 1px solid gray;box-sizing: border-box;top: 0;bottom: 0;left: 50%;z-index: 0;}#sk-container-id-1 div.sk-serial {display: flex;flex-direction: column;align-items: center;background-color: white;padding-right: 0.2em;padding-left: 0.2em;position: relative;}#sk-container-id-1 div.sk-item {position: relative;z-index: 1;}#sk-container-id-1 div.sk-parallel {display: flex;align-items: stretch;justify-content: center;background-color: white;position: relative;}#sk-container-id-1 div.sk-item::before, #sk-container-id-1 div.sk-parallel-item::before {content: \"\";position: absolute;border-left: 1px solid gray;box-sizing: border-box;top: 0;bottom: 0;left: 50%;z-index: -1;}#sk-container-id-1 div.sk-parallel-item {display: flex;flex-direction: column;z-index: 1;position: relative;background-color: white;}#sk-container-id-1 div.sk-parallel-item:first-child::after {align-self: flex-end;width: 50%;}#sk-container-id-1 div.sk-parallel-item:last-child::after {align-self: flex-start;width: 50%;}#sk-container-id-1 div.sk-parallel-item:only-child::after {width: 0;}#sk-container-id-1 div.sk-dashed-wrapped {border: 1px dashed gray;margin: 0 0.4em 0.5em 0.4em;box-sizing: border-box;padding-bottom: 0.4em;background-color: white;}#sk-container-id-1 div.sk-label label {font-family: monospace;font-weight: bold;display: inline-block;line-height: 1.2em;}#sk-container-id-1 div.sk-label-container {text-align: center;}#sk-container-id-1 div.sk-container {/* jupyter's `normalize.less` sets `[hidden] { display: none; }` but bootstrap.min.css set `[hidden] { display: none !important; }` so we also need the `!important` here to be able to override the default hidden behavior on the sphinx rendered scikit-learn.org. See: https://github.com/scikit-learn/scikit-learn/issues/21755 */display: inline-block !important;position: relative;}#sk-container-id-1 div.sk-text-repr-fallback {display: none;}</style><div id=\"sk-container-id-1\" class=\"sk-top-container\"><div class=\"sk-text-repr-fallback\"><pre>LogisticRegression(random_state=42)</pre><b>In a Jupyter environment, please rerun this cell to show the HTML representation or trust the notebook. <br />On GitHub, the HTML representation is unable to render, please try loading this page with nbviewer.org.</b></div><div class=\"sk-container\" hidden><div class=\"sk-item\"><div class=\"sk-estimator sk-toggleable\"><input class=\"sk-toggleable__control sk-hidden--visually\" id=\"sk-estimator-id-1\" type=\"checkbox\" checked><label for=\"sk-estimator-id-1\" class=\"sk-toggleable__label sk-toggleable__label-arrow\">LogisticRegression</label><div class=\"sk-toggleable__content\"><pre>LogisticRegression(random_state=42)</pre></div></div></div></div></div>"
            ]
          },
          "metadata": {},
          "execution_count": 9
        }
      ],
      "source": [
        "\n",
        "# Train the Logistic Regression model on the selected features\n",
        "model.fit(X_train_selected, y_train)\n",
        "\n",
        "# We can now proceed to Step 7: Model Evaluation"
      ]
    },
    {
      "cell_type": "markdown",
      "metadata": {
        "id": "PtEOm5Y630p5"
      },
      "source": [
        "## Step 6: Model Evaluation\n",
        "\n",
        "In this step, we'll evaluate the performance of the trained Logistic Regression model using the testing data.\n",
        "\n",
        "- We import necessary metrics from `sklearn.metrics` such as `accuracy_score`, `classification_report`, and `confusion_matrix`.\n",
        "- We use the trained model to predict sentiment labels (`y_pred`) for the test data (`X_test_selected`).\n",
        "- We calculate the accuracy of the model by comparing the predicted labels to the true labels.\n",
        "- We display a classification report that includes precision, recall, F1-score, and support for both positive and negative sentiment classes.\n",
        "- We display a confusion matrix to visualize the true positive, true negative, false positive, and false negative predictions.\n",
        "\n"
      ]
    },
    {
      "cell_type": "code",
      "execution_count": null,
      "metadata": {
        "id": "4eNG5rY5323C",
        "colab": {
          "base_uri": "https://localhost:8080/"
        },
        "outputId": "d8df6e36-ab5b-4e47-fd2c-d2015c827751"
      },
      "outputs": [
        {
          "output_type": "stream",
          "name": "stdout",
          "text": [
            "Accuracy: 0.8466666666666667\n",
            "\n",
            "Classification Report:\n",
            "              precision    recall  f1-score   support\n",
            "\n",
            "           0       0.00      0.00      0.00        23\n",
            "           1       0.85      1.00      0.92       127\n",
            "\n",
            "    accuracy                           0.85       150\n",
            "   macro avg       0.42      0.50      0.46       150\n",
            "weighted avg       0.72      0.85      0.78       150\n",
            "\n",
            "\n",
            "Confusion Matrix:\n",
            "[[  0  23]\n",
            " [  0 127]]\n"
          ]
        },
        {
          "output_type": "stream",
          "name": "stderr",
          "text": [
            "/usr/local/lib/python3.10/dist-packages/sklearn/metrics/_classification.py:1344: UndefinedMetricWarning: Precision and F-score are ill-defined and being set to 0.0 in labels with no predicted samples. Use `zero_division` parameter to control this behavior.\n",
            "  _warn_prf(average, modifier, msg_start, len(result))\n",
            "/usr/local/lib/python3.10/dist-packages/sklearn/metrics/_classification.py:1344: UndefinedMetricWarning: Precision and F-score are ill-defined and being set to 0.0 in labels with no predicted samples. Use `zero_division` parameter to control this behavior.\n",
            "  _warn_prf(average, modifier, msg_start, len(result))\n",
            "/usr/local/lib/python3.10/dist-packages/sklearn/metrics/_classification.py:1344: UndefinedMetricWarning: Precision and F-score are ill-defined and being set to 0.0 in labels with no predicted samples. Use `zero_division` parameter to control this behavior.\n",
            "  _warn_prf(average, modifier, msg_start, len(result))\n"
          ]
        }
      ],
      "source": [
        "from sklearn.metrics import accuracy_score, classification_report, confusion_matrix\n",
        "\n",
        "# Predict sentiment labels for the test data\n",
        "y_pred = model.predict(X_test_selected)\n",
        "\n",
        "# Calculate the accuracy of the model\n",
        "accuracy = accuracy_score(y_test, y_pred)\n",
        "print(\"Accuracy:\", accuracy)\n",
        "\n",
        "# Display a classification report\n",
        "print(\"\\nClassification Report:\")\n",
        "print(classification_report(y_test, y_pred))\n",
        "\n",
        "# Display a confusion matrix\n",
        "print(\"\\nConfusion Matrix:\")\n",
        "print(confusion_matrix(y_test, y_pred))\n"
      ]
    },
    {
      "cell_type": "markdown",
      "source": [
        "<a name=\"ex_4\"></a>\n",
        "## Exercise 4\n",
        "\n",
        "- Compare the Results with the new data split with the results of the actual split."
      ],
      "metadata": {
        "id": "VUCBrmL4UASm"
      }
    },
    {
      "cell_type": "code",
      "source": [
        "# Write your code here\n",
        "# Train with the original split and check performance (80/20)\n",
        "\n",
        "X_train2, X_test2, y_train2, y_test2 = train_test_split(X, y, test_size=0.2, random_state=42)\n",
        "\n",
        "k = 1000\n",
        "selector = SelectKBest(chi2, k=k)\n",
        "X_train_selected2 = selector.fit_transform(X_train2, y_train2)\n",
        "X_test_selected2 = selector.transform(X_test2)\n",
        "\n",
        "model.fit(X_train_selected2, y_train2)\n",
        "\n",
        "# Predict sentiment labels for the test data\n",
        "y_pred2 = model.predict(X_test_selected2)\n",
        "\n",
        "# Calculate the accuracy of the model\n",
        "accuracy = accuracy_score(y_test2, y_pred2)\n",
        "print(\"Accuracy:\", accuracy)\n",
        "\n",
        "# Display a classification report\n",
        "print(\"\\nClassification Report:\")\n",
        "print(classification_report(y_test2, y_pred2))\n",
        "\n",
        "# Display a confusion matrix\n",
        "print(\"\\nConfusion Matrix:\")\n",
        "print(confusion_matrix(y_test2, y_pred2))"
      ],
      "metadata": {
        "id": "pY-p78AhRVCi",
        "colab": {
          "base_uri": "https://localhost:8080/"
        },
        "outputId": "d9676026-b03e-4040-cedb-023b5a303e0c"
      },
      "execution_count": null,
      "outputs": [
        {
          "output_type": "stream",
          "name": "stdout",
          "text": [
            "Accuracy: 0.86\n",
            "\n",
            "Classification Report:\n",
            "              precision    recall  f1-score   support\n",
            "\n",
            "           0       0.00      0.00      0.00        14\n",
            "           1       0.86      1.00      0.92        86\n",
            "\n",
            "    accuracy                           0.86       100\n",
            "   macro avg       0.43      0.50      0.46       100\n",
            "weighted avg       0.74      0.86      0.80       100\n",
            "\n",
            "\n",
            "Confusion Matrix:\n",
            "[[ 0 14]\n",
            " [ 0 86]]\n"
          ]
        },
        {
          "output_type": "stream",
          "name": "stderr",
          "text": [
            "/usr/local/lib/python3.10/dist-packages/sklearn/metrics/_classification.py:1344: UndefinedMetricWarning: Precision and F-score are ill-defined and being set to 0.0 in labels with no predicted samples. Use `zero_division` parameter to control this behavior.\n",
            "  _warn_prf(average, modifier, msg_start, len(result))\n",
            "/usr/local/lib/python3.10/dist-packages/sklearn/metrics/_classification.py:1344: UndefinedMetricWarning: Precision and F-score are ill-defined and being set to 0.0 in labels with no predicted samples. Use `zero_division` parameter to control this behavior.\n",
            "  _warn_prf(average, modifier, msg_start, len(result))\n",
            "/usr/local/lib/python3.10/dist-packages/sklearn/metrics/_classification.py:1344: UndefinedMetricWarning: Precision and F-score are ill-defined and being set to 0.0 in labels with no predicted samples. Use `zero_division` parameter to control this behavior.\n",
            "  _warn_prf(average, modifier, msg_start, len(result))\n"
          ]
        }
      ]
    },
    {
      "cell_type": "markdown",
      "source": [
        "<a name=\"ex_5\"></a>\n",
        "## Exercise 5\n",
        "\n",
        "Do different training and testing sizes impact the model's learning and response to new data?"
      ],
      "metadata": {
        "id": "JOQTfrhqUKiw"
      }
    },
    {
      "cell_type": "markdown",
      "source": [
        "**Answer**: Write your answer here\n",
        "\n",
        "Yes, the sizes of the training and testing datasets can impact the model's learning and its response to new, unseen data. The choice of the training and testing sizes is a crucial aspect of machine learning model evaluation, and it can influence several aspects of the model's behavior:\n",
        "\n",
        "1. **Model Generalization:**\n",
        "   - If the training dataset is too small, the model may not capture the underlying patterns in the data, leading to poor generalization to new, unseen data.\n",
        "   - If the testing dataset is too small, the evaluation metrics may not provide a reliable estimate of the model's performance on a broader set of data.\n",
        "\n",
        "2. **Overfitting and Underfitting:**\n",
        "   - A very small training dataset may lead to overfitting, where the model memorizes the training data but fails to generalize to new data.\n",
        "   - A very large training dataset is less likely to result in overfitting but could lead to underfitting if the model is too simple to capture the underlying patterns.\n",
        "\n",
        "3. **Model Evaluation:**\n",
        "   - The size of the testing dataset affects the reliability of model evaluation metrics. Larger test sets generally provide more robust estimates of the model's performance.\n",
        "\n",
        "4. **Randomness and Variability:**\n",
        "   - Randomness introduced during the training and testing split can lead to variability in model performance metrics. Running the evaluation on different splits may yield different results.\n",
        "\n",
        "5. **Computational Resources:**\n",
        "   - The size of the training dataset can impact the computational resources required for model training. Larger datasets may require more time and memory.\n",
        "\n",
        "To address these concerns, techniques like cross-validation can be used. Cross-validation involves splitting the dataset into multiple folds, training the model on different subsets, and evaluating it on different subsets. This helps provide a more robust estimate of the model's performance across various data splits.\n",
        "\n",
        "In summary, the choice of training and testing sizes is crucial for achieving a balance between model learning, generalization, and reliable evaluation. It's often recommended to experiment with different split ratios and use techniques like cross-validation to obtain a more comprehensive understanding of the model's performance."
      ],
      "metadata": {
        "id": "W15I941KUQWx"
      }
    },
    {
      "cell_type": "markdown",
      "metadata": {
        "id": "7L7dQj714Ckw"
      },
      "source": [
        "## Step 7: Hyperparameter Tuning\n",
        "\n",
        "In this step, we'll perform hyperparameter tuning to optimize the Logistic Regression model's performance. We can search for the best hyperparameters using techniques like Grid Search or Random Search.\n",
        "\n",
        "- We import `GridSearchCV` from `sklearn.model_selection`.\n",
        "- We define a grid of hyperparameters to search, including 'C' (regularization parameter) and 'max_iter' (maximum iterations).\n",
        "- We initialize Grid Search with cross-validation (5-fold) to find the best hyperparameters.\n",
        "- The best hyperparameters are extracted using `grid_search.best_params_`.\n",
        "- We fit the tuned model with the best hyperparameters to the training data.\n",
        "- Finally, we evaluate the tuned model's accuracy on the test data."
      ]
    },
    {
      "cell_type": "code",
      "execution_count": null,
      "metadata": {
        "id": "OX7ebRMa4GBT",
        "colab": {
          "base_uri": "https://localhost:8080/"
        },
        "outputId": "3880dc2b-c8b6-4738-fdad-ff57d0b7ec01"
      },
      "outputs": [
        {
          "output_type": "stream",
          "name": "stdout",
          "text": [
            "Fitting 5 folds for each of 12 candidates, totalling 60 fits\n",
            "Best Hyperparameters: {'C': 100, 'max_iter': 100}\n",
            "Tuned Model Accuracy: 0.86\n"
          ]
        }
      ],
      "source": [
        "from sklearn.model_selection import GridSearchCV\n",
        "\n",
        "# Define hyperparameters to search\n",
        "param_grid = {\n",
        "    'C': [0.1, 1, 10, 100],  # Regularization parameters\n",
        "    'max_iter': [100, 200, 300]  # Maximum number of iterations\n",
        "}\n",
        "\n",
        "# Initialize Grid Search with cross-validation (5-fold)\n",
        "grid_search = GridSearchCV(LogisticRegression(random_state=42), param_grid, cv=5, verbose=1, n_jobs=-1)\n",
        "\n",
        "# Fit the Grid Search to the data\n",
        "grid_search.fit(X_train_selected, y_train)\n",
        "\n",
        "# Get the best hyperparameters\n",
        "best_params = grid_search.best_params_\n",
        "print(\"Best Hyperparameters:\", best_params)\n",
        "\n",
        "# Evaluate the model with the best hyperparameters\n",
        "best_model = grid_search.best_estimator_\n",
        "y_pred_tuned = best_model.predict(X_test_selected)\n",
        "\n",
        "# Calculate the accuracy of the tuned model\n",
        "accuracy_tuned = accuracy_score(y_test, y_pred_tuned)\n",
        "print(\"Tuned Model Accuracy:\", accuracy_tuned)"
      ]
    },
    {
      "cell_type": "markdown",
      "source": [
        "<a name=\"ex_6\"></a>\n",
        "## Exercise 6\n",
        "\n",
        "- What is GridSearchCV used for?\n",
        "- What are hyperparameters?\n",
        "- Does the model give better results after hyperparameters ?"
      ],
      "metadata": {
        "id": "FaJSToyvUbBp"
      }
    },
    {
      "cell_type": "markdown",
      "source": [
        "**Answer**: Write your answer here"
      ],
      "metadata": {
        "id": "zhZdGMyeUk4J"
      }
    },
    {
      "cell_type": "markdown",
      "metadata": {
        "id": "5Axwiyok4PkA"
      },
      "source": [
        "It appears that the hyperparameter tuning did not significantly improve the model's accuracy in this case. The accuracy remains at 0.86.\n",
        "\n",
        "## Step 8: Cross Validation\n",
        "\n",
        "We'll use cross-validation to estimate how well the model will perform on unseen data and check if the model's performance is consistent across different folds of the data.\n",
        "\n",
        "- We import `cross_val_score` from `sklearn.model_selection`.\n",
        "- We perform 5-fold cross-validation on the tuned model (`best_model`) using the training data (`X_train_selected` and `y_train`).\n",
        "- We calculate the mean cross-validation accuracy to get a more robust estimate of the model's performance."
      ]
    },
    {
      "cell_type": "code",
      "execution_count": null,
      "metadata": {
        "id": "ezr_YRmn4VkI",
        "colab": {
          "base_uri": "https://localhost:8080/"
        },
        "outputId": "eccdfae6-9680-4ada-ea34-071ab2f5cd1d"
      },
      "outputs": [
        {
          "output_type": "stream",
          "name": "stdout",
          "text": [
            "Mean Cross-Validation Accuracy: 0.79\n"
          ]
        }
      ],
      "source": [
        "from sklearn.model_selection import cross_val_score\n",
        "\n",
        "# Perform 5-fold cross-validation on the tuned model\n",
        "cv_scores = cross_val_score(best_model, X_train_selected, y_train, cv=5)\n",
        "\n",
        "# Calculate and display the mean cross-validation accuracy\n",
        "mean_cv_accuracy = np.mean(cv_scores)\n",
        "print(\"Mean Cross-Validation Accuracy:\", mean_cv_accuracy)"
      ]
    },
    {
      "cell_type": "markdown",
      "source": [
        "<a name=\"ex_7\"></a>\n",
        "## Exercise 7\n",
        "\n",
        "- What is Cross Validation used for?\n",
        "- Compare the new Validation score (with the new training and testing size)\n",
        "- What do you conclude ?"
      ],
      "metadata": {
        "id": "SaZiGRevUrOG"
      }
    },
    {
      "cell_type": "markdown",
      "source": [
        "**Answer**: Write your answer here"
      ],
      "metadata": {
        "id": "9zifBq1xVJ5b"
      }
    }
  ],
  "metadata": {
    "colab": {
      "provenance": [],
      "include_colab_link": true
    },
    "kernelspec": {
      "display_name": "Python 3",
      "name": "python3"
    },
    "language_info": {
      "name": "python"
    }
  },
  "nbformat": 4,
  "nbformat_minor": 0
}