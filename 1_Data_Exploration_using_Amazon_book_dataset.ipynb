{
  "nbformat": 4,
  "nbformat_minor": 0,
  "metadata": {
    "colab": {
      "provenance": [],
      "include_colab_link": true
    },
    "kernelspec": {
      "name": "python3",
      "display_name": "Python 3"
    },
    "language_info": {
      "name": "python"
    }
  },
  "cells": [
    {
      "cell_type": "markdown",
      "metadata": {
        "id": "view-in-github",
        "colab_type": "text"
      },
      "source": [
        "<a href=\"https://colab.research.google.com/github/Y-YHat/gen_ai_course/blob/main/1_Data_Exploration_using_Amazon_book_dataset.ipynb\" target=\"_parent\"><img src=\"https://colab.research.google.com/assets/colab-badge.svg\" alt=\"Open In Colab\"/></a>"
      ]
    },
    {
      "cell_type": "markdown",
      "source": [
        "# Problem statement: Visualizing Amazon Reviews\n",
        "\n",
        "This notebook is focused on exploring Amazon product review data through various visualization techniques. The primary goal is to uncover insights from the data by examining the relationship between different variables\n",
        "\n",
        "This exploration involves creating scatterplots, bar charts, box plots, line plots, pie charts, and word clouds to effectively analyze and interpret the data, thereby providing a comprehensive overview of consumer feedback on Amazon products.\n",
        "\n",
        "The notebook contains one exercise in total:\n",
        "\n",
        "* [Exercise 1](#ex_1)"
      ],
      "metadata": {
        "id": "Wo9eN4ozXybX"
      }
    },
    {
      "cell_type": "code",
      "source": [
        "from google.colab import files\n",
        "uploaded = files.upload()"
      ],
      "metadata": {
        "id": "ftgir6U1Shm3"
      },
      "execution_count": null,
      "outputs": []
    },
    {
      "cell_type": "code",
      "execution_count": null,
      "metadata": {
        "id": "JJ6nDGGgfdV6"
      },
      "outputs": [],
      "source": [
        "# Import necessary libraries\n",
        "import pandas as pd\n",
        "\n",
        "df = pd.read_csv('amazon-product-review-data.csv')\n",
        "\n",
        "# Verify if the dataset is loaded correctly\n",
        "print(df.head())"
      ]
    },
    {
      "cell_type": "code",
      "source": [
        "# Display basic information about the dataset\n",
        "print(df.info())\n",
        "\n",
        "# Check for missing values\n",
        "print(df.isnull().sum())"
      ],
      "metadata": {
        "id": "uLFd9_TYux8o"
      },
      "execution_count": null,
      "outputs": []
    },
    {
      "cell_type": "code",
      "source": [
        "# Calculate summary statistics for numerical columns\n",
        "summary_stats = df.describe()\n",
        "\n",
        "# Print the summary statistics\n",
        "print(summary_stats)"
      ],
      "metadata": {
        "id": "Naqj5CelvCOJ"
      },
      "execution_count": null,
      "outputs": []
    },
    {
      "cell_type": "code",
      "source": [
        "# Explore categorical variables\n",
        "categorical_columns = ['market_place', 'product_category', 'sentiments']\n",
        "\n",
        "for column in categorical_columns:\n",
        "    category_counts = df[column].value_counts()\n",
        "    print(f\"Category counts for {column}:\\n{category_counts}\\n\")"
      ],
      "metadata": {
        "id": "cpI0ZdMfvdwd"
      },
      "execution_count": null,
      "outputs": []
    },
    {
      "cell_type": "code",
      "source": [
        "# Import necessary libraries for visualization\n",
        "import matplotlib.pyplot as plt\n",
        "import seaborn as sns\n",
        "\n",
        "# Create a histogram for star ratings\n",
        "plt.figure(figsize=(8, 5))\n",
        "sns.countplot(data=df, x='star_rating')\n",
        "plt.title('Distribution of Star Ratings')\n",
        "plt.xlabel('Star Rating')\n",
        "plt.ylabel('Count')\n",
        "plt.show()"
      ],
      "metadata": {
        "id": "Fd8-Lzunvsbh"
      },
      "execution_count": null,
      "outputs": []
    },
    {
      "cell_type": "code",
      "source": [
        "# Convert the 'review_date' column to a datetime format\n",
        "df['review_date'] = pd.to_datetime(df['review_date'])\n",
        "\n",
        "# Extract year and month from the 'review_date' column\n",
        "df['review_year'] = df['review_date'].dt.year\n",
        "df['review_month'] = df['review_date'].dt.strftime('%B')\n",
        "df['review_day'] = df['review_date'].dt.strftime('%A')\n",
        "\n",
        "# Plot the count of reviews over the years\n",
        "plt.figure(figsize=(12, 6))\n",
        "sns.countplot(data=df, x='review_year')\n",
        "plt.title('Review Count Over the Years')\n",
        "plt.xlabel('Year')\n",
        "plt.ylabel('Count of Reviews')\n",
        "plt.xticks(rotation=45)\n",
        "plt.show()"
      ],
      "metadata": {
        "id": "2J3FGleRwN4J"
      },
      "execution_count": null,
      "outputs": []
    },
    {
      "cell_type": "code",
      "source": [
        "# Calculate the length of each review\n",
        "df['review_body_length'] = df['review_body'].apply(len)\n",
        "\n",
        "# Calculate descriptive statistics for review length\n",
        "review_length_stats = df['review_body_length'].describe()\n",
        "\n",
        "# Print the review length statistics\n",
        "print(review_length_stats)\n",
        "\n",
        "# Create a histogram for review lengths\n",
        "plt.figure(figsize=(8, 5))\n",
        "sns.histplot(data=df, x='review_body_length', bins=30)\n",
        "plt.title('Distribution of Review Lengths')\n",
        "plt.xlabel('Review Length')\n",
        "plt.ylabel('Count')\n",
        "plt.show()"
      ],
      "metadata": {
        "id": "UxGdDvSz2xOH"
      },
      "execution_count": null,
      "outputs": []
    },
    {
      "cell_type": "code",
      "source": [
        "# Calculate the correlation matrix\n",
        "correlation_matrix = df.corr()\n",
        "\n",
        "# Create a heatmap to visualize the correlation matrix\n",
        "plt.figure(figsize=(10, 8))\n",
        "sns.heatmap(correlation_matrix, annot=True, cmap='coolwarm', fmt=\".2f\", square=True)\n",
        "plt.title('Correlation Matrix')\n",
        "plt.show()"
      ],
      "metadata": {
        "id": "uYRnzphM3g0g"
      },
      "execution_count": null,
      "outputs": []
    },
    {
      "cell_type": "markdown",
      "source": [
        "<a name=\"ex_1\"></a>\n",
        "# Exercise 1\n",
        "\n",
        "**Tasks:**\n",
        "\n",
        "- Create a scatterplot to visualize the relationship between star ratings and review length\n",
        "- Create a bar chart to visualize the average star rating for each product category\n",
        "- Create a box plot to visualize the distribution of star ratings for each product category\n",
        "- Create a line plot to visualize the trend of star ratings over time\n",
        "- Create a pie chart to visualize the distribution of sentiments\n",
        "- Create a word cloud to visualize the most common words in the reviews"
      ],
      "metadata": {
        "id": "_iflKleQ3UmM"
      }
    },
    {
      "cell_type": "code",
      "source": [
        "# Write your code here"
      ],
      "metadata": {
        "id": "uV8CqH31cmCK"
      },
      "execution_count": null,
      "outputs": []
    }
  ]
}